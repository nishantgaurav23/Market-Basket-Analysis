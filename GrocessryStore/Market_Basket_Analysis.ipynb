{
  "nbformat": 4,
  "nbformat_minor": 0,
  "metadata": {
    "colab": {
      "name": "Market_Basket_Analysis.ipynb",
      "provenance": []
    },
    "kernelspec": {
      "name": "python3",
      "display_name": "Python 3"
    },
    "language_info": {
      "name": "python"
    }
  },
  "cells": [
    {
      "cell_type": "markdown",
      "source": [
        "### Objective\n",
        "* identify segments based on the overall buying behaviour\n",
        "* identify the association rules for the items purchased\n",
        "* implement the apriori algorithm from scratch"
      ],
      "metadata": {
        "id": "1JAe-fAwOBfT"
      }
    },
    {
      "cell_type": "markdown",
      "source": [
        "### Dataset\n",
        "\n",
        "The dataset chosen for this assignment is 'Grocery Store Dataset'. This dataset contains transcations of general items from a supermarket. For example one transcation looks like `BREAD, MILK, BISCUIT, CORNFLAKES`"
      ],
      "metadata": {
        "id": "OytpzNfgOZQR"
      }
    },
    {
      "cell_type": "markdown",
      "source": [
        "### Information\n",
        "\n",
        "The Apriori algorithm is an influential algorithm for searching a series of frequent sets of items in the dataset or database.It is mainly used for Association Rule mining. So, what exactly is Association Rule Mining?\n",
        "\n",
        "Alex goes to buy a chips from bakery.He grabs a Pepsi as well. The shop manager analyses that, not only Alex but people in general, often tend to buy chips and Pepsi together.After finding out the pattern, the shop manager arrange these items together and notices an increase in sales. This process of identifying the relationship between association rule mining.\n",
        "\n",
        "The kep concept in the Apriori alogorithm is that it assumes\n",
        "  * All subsets of a frequenct items must be frequent.\n",
        "  * If an itemset is infrequent, all its supersets will be infrequent.\n",
        "\n",
        "**Important Definitions**\n",
        "\n",
        "**Itemset:** A set of items is referred to as itemset and an itemset containing n items is called n-itemset\n",
        "\n",
        "**SupportCount:** Number of transactions in which the itemset appears.\n",
        "\n",
        "**MinimumSupportCount:** the minimum frequency of itemset in the dataset or database.\n",
        "\n",
        "**Frequent Itemset:** If an itemset satisfies minimum support, then it is a frequent itemset.\n",
        "\n",
        "**Support:** An indication of how frequently the itemset appears in the dataset.."
      ],
      "metadata": {
        "id": "nfdSBpKPOzt6"
      }
    },
    {
      "cell_type": "markdown",
      "source": [
        "![Overview](https://cdn.iisc.talentsprint.com/CDS/Apriori_Overview.JPG)"
      ],
      "metadata": {
        "id": "hmRo_rimQvXE"
      }
    },
    {
      "cell_type": "markdown",
      "source": [
        "We will be using below helper functions to implement apriori algorithm:\n",
        "\n",
        "* **get_support(transcations, item_sets):** This function calculates the support value for the given item_Set from the provided list of transcations\n",
        "\n",
        "* **self_join(frequent_item_Sets_per_level, level):** Thus function performs self join in the given list of frequent itemsets of previous level, and generates the candidate itemsets for the current level.\n",
        "\n",
        "* **get_single_drop_subsets(item_set):** This function returns the subsets of the given item_set with one item less.\n",
        "\n",
        "* **is_valid_set(item_set, prev_level_sets):** This checks if the given item_set is valid, i.e., has all its subsets with support value greater than the minimum support value. It relies on the fact that prev_level_sets contains only those item_sets which are frequent, i.e., have support value greater than the minimum support value.\n",
        "\n",
        "* **pruning(frequent_item_sets_per_level, level, candidate_set):** This function performs the pruning step of the Apriori Algorithm. It takes a list candidate_set of all the candidate itemsets for the current level, and for each candidate itemset checks if all its subsets are frequent itemsets. If not, it prunes it, If yes, it adds it to the list of post_pruning_set.\n",
        "\n",
        "* **apriori(min_support):** This is the main function which uses all the above described Utility functions to implement the Apriori Algorithm and generate the list of frequent itemsets for each level for the provided transactions and min_support value.\n",
        "\n",
        "* **association_rules(min_confidence, support_dict):** This function generates the association rules in accordance with the given minimum confidence value and the provided dictionary of itemsets against their support values. It takes min_confidence and support_dict as a parameter, and returns rules as a list."
      ],
      "metadata": {
        "id": "tCMQpZSRQzNC"
      }
    },
    {
      "cell_type": "code",
      "execution_count": 1,
      "metadata": {
        "id": "rPaYi9XQN9hP",
        "colab": {
          "base_uri": "https://localhost:8080/"
        },
        "outputId": "5a27e556-f783-4873-c715-bdb194021d9b"
      },
      "outputs": [
        {
          "output_type": "stream",
          "name": "stdout",
          "text": [
            "--2022-04-07 03:00:28--  https://cdn.iisc.talentsprint.com/CDS/Datasets/GroceryStoreDataSet.csv\n",
            "Resolving cdn.iisc.talentsprint.com (cdn.iisc.talentsprint.com)... 172.105.52.210\n",
            "Connecting to cdn.iisc.talentsprint.com (cdn.iisc.talentsprint.com)|172.105.52.210|:443... connected.\n",
            "HTTP request sent, awaiting response... 200 OK\n",
            "Length: 478 [application/octet-stream]\n",
            "Saving to: ‘GroceryStoreDataSet.csv’\n",
            "\n",
            "GroceryStoreDataSet 100%[===================>]     478  --.-KB/s    in 0s      \n",
            "\n",
            "2022-04-07 03:00:29 (116 MB/s) - ‘GroceryStoreDataSet.csv’ saved [478/478]\n",
            "\n"
          ]
        }
      ],
      "source": [
        " !wget \"https://cdn.iisc.talentsprint.com/CDS/Datasets/GroceryStoreDataSet.csv\""
      ]
    },
    {
      "cell_type": "markdown",
      "source": [
        "### Import required packages"
      ],
      "metadata": {
        "id": "fDV7NaHl90Ig"
      }
    },
    {
      "cell_type": "code",
      "source": [
        "import pandas as pd\n",
        "import numpy as np\n",
        "from collections import defaultdict\n",
        "from itertools import combinations"
      ],
      "metadata": {
        "id": "wxjo8TOIR-wK"
      },
      "execution_count": 3,
      "outputs": []
    },
    {
      "cell_type": "markdown",
      "source": [
        "\n",
        "To know about collection package click [here](https://docs.python.org/3/library/collections.html)\n",
        "\n",
        "To know about itertools package click [here](https://docs.python.org/3/library/itertools.html)"
      ],
      "metadata": {
        "id": "Zs3W5-e6-Ggs"
      }
    },
    {
      "cell_type": "code",
      "source": [
        "store_data = pd.read_csv('/content/GroceryStoreDataSet.csv', names=['Items'])\n",
        "store_data.head()"
      ],
      "metadata": {
        "colab": {
          "base_uri": "https://localhost:8080/",
          "height": 206
        },
        "id": "EhZE89Tf-IL0",
        "outputId": "fbae552f-077e-4da5-aca9-f5c401f7bb54"
      },
      "execution_count": 4,
      "outputs": [
        {
          "output_type": "execute_result",
          "data": {
            "text/plain": [
              "                           Items\n",
              "0             MILK,BREAD,BISCUIT\n",
              "1  BREAD,MILK,BISCUIT,CORNFLAKES\n",
              "2            BREAD,TEA,BOURNVITA\n",
              "3           JAM,MAGGI,BREAD,MILK\n",
              "4              MAGGI,TEA,BISCUIT"
            ],
            "text/html": [
              "\n",
              "  <div id=\"df-6e709380-c5d5-4803-bb14-8caa9681317d\">\n",
              "    <div class=\"colab-df-container\">\n",
              "      <div>\n",
              "<style scoped>\n",
              "    .dataframe tbody tr th:only-of-type {\n",
              "        vertical-align: middle;\n",
              "    }\n",
              "\n",
              "    .dataframe tbody tr th {\n",
              "        vertical-align: top;\n",
              "    }\n",
              "\n",
              "    .dataframe thead th {\n",
              "        text-align: right;\n",
              "    }\n",
              "</style>\n",
              "<table border=\"1\" class=\"dataframe\">\n",
              "  <thead>\n",
              "    <tr style=\"text-align: right;\">\n",
              "      <th></th>\n",
              "      <th>Items</th>\n",
              "    </tr>\n",
              "  </thead>\n",
              "  <tbody>\n",
              "    <tr>\n",
              "      <th>0</th>\n",
              "      <td>MILK,BREAD,BISCUIT</td>\n",
              "    </tr>\n",
              "    <tr>\n",
              "      <th>1</th>\n",
              "      <td>BREAD,MILK,BISCUIT,CORNFLAKES</td>\n",
              "    </tr>\n",
              "    <tr>\n",
              "      <th>2</th>\n",
              "      <td>BREAD,TEA,BOURNVITA</td>\n",
              "    </tr>\n",
              "    <tr>\n",
              "      <th>3</th>\n",
              "      <td>JAM,MAGGI,BREAD,MILK</td>\n",
              "    </tr>\n",
              "    <tr>\n",
              "      <th>4</th>\n",
              "      <td>MAGGI,TEA,BISCUIT</td>\n",
              "    </tr>\n",
              "  </tbody>\n",
              "</table>\n",
              "</div>\n",
              "      <button class=\"colab-df-convert\" onclick=\"convertToInteractive('df-6e709380-c5d5-4803-bb14-8caa9681317d')\"\n",
              "              title=\"Convert this dataframe to an interactive table.\"\n",
              "              style=\"display:none;\">\n",
              "        \n",
              "  <svg xmlns=\"http://www.w3.org/2000/svg\" height=\"24px\"viewBox=\"0 0 24 24\"\n",
              "       width=\"24px\">\n",
              "    <path d=\"M0 0h24v24H0V0z\" fill=\"none\"/>\n",
              "    <path d=\"M18.56 5.44l.94 2.06.94-2.06 2.06-.94-2.06-.94-.94-2.06-.94 2.06-2.06.94zm-11 1L8.5 8.5l.94-2.06 2.06-.94-2.06-.94L8.5 2.5l-.94 2.06-2.06.94zm10 10l.94 2.06.94-2.06 2.06-.94-2.06-.94-.94-2.06-.94 2.06-2.06.94z\"/><path d=\"M17.41 7.96l-1.37-1.37c-.4-.4-.92-.59-1.43-.59-.52 0-1.04.2-1.43.59L10.3 9.45l-7.72 7.72c-.78.78-.78 2.05 0 2.83L4 21.41c.39.39.9.59 1.41.59.51 0 1.02-.2 1.41-.59l7.78-7.78 2.81-2.81c.8-.78.8-2.07 0-2.86zM5.41 20L4 18.59l7.72-7.72 1.47 1.35L5.41 20z\"/>\n",
              "  </svg>\n",
              "      </button>\n",
              "      \n",
              "  <style>\n",
              "    .colab-df-container {\n",
              "      display:flex;\n",
              "      flex-wrap:wrap;\n",
              "      gap: 12px;\n",
              "    }\n",
              "\n",
              "    .colab-df-convert {\n",
              "      background-color: #E8F0FE;\n",
              "      border: none;\n",
              "      border-radius: 50%;\n",
              "      cursor: pointer;\n",
              "      display: none;\n",
              "      fill: #1967D2;\n",
              "      height: 32px;\n",
              "      padding: 0 0 0 0;\n",
              "      width: 32px;\n",
              "    }\n",
              "\n",
              "    .colab-df-convert:hover {\n",
              "      background-color: #E2EBFA;\n",
              "      box-shadow: 0px 1px 2px rgba(60, 64, 67, 0.3), 0px 1px 3px 1px rgba(60, 64, 67, 0.15);\n",
              "      fill: #174EA6;\n",
              "    }\n",
              "\n",
              "    [theme=dark] .colab-df-convert {\n",
              "      background-color: #3B4455;\n",
              "      fill: #D2E3FC;\n",
              "    }\n",
              "\n",
              "    [theme=dark] .colab-df-convert:hover {\n",
              "      background-color: #434B5C;\n",
              "      box-shadow: 0px 1px 3px 1px rgba(0, 0, 0, 0.15);\n",
              "      filter: drop-shadow(0px 1px 2px rgba(0, 0, 0, 0.3));\n",
              "      fill: #FFFFFF;\n",
              "    }\n",
              "  </style>\n",
              "\n",
              "      <script>\n",
              "        const buttonEl =\n",
              "          document.querySelector('#df-6e709380-c5d5-4803-bb14-8caa9681317d button.colab-df-convert');\n",
              "        buttonEl.style.display =\n",
              "          google.colab.kernel.accessAllowed ? 'block' : 'none';\n",
              "\n",
              "        async function convertToInteractive(key) {\n",
              "          const element = document.querySelector('#df-6e709380-c5d5-4803-bb14-8caa9681317d');\n",
              "          const dataTable =\n",
              "            await google.colab.kernel.invokeFunction('convertToInteractive',\n",
              "                                                     [key], {});\n",
              "          if (!dataTable) return;\n",
              "\n",
              "          const docLinkHtml = 'Like what you see? Visit the ' +\n",
              "            '<a target=\"_blank\" href=https://colab.research.google.com/notebooks/data_table.ipynb>data table notebook</a>'\n",
              "            + ' to learn more about interactive tables.';\n",
              "          element.innerHTML = '';\n",
              "          dataTable['output_type'] = 'display_data';\n",
              "          await google.colab.output.renderOutput(dataTable, element);\n",
              "          const docLink = document.createElement('div');\n",
              "          docLink.innerHTML = docLinkHtml;\n",
              "          element.appendChild(docLink);\n",
              "        }\n",
              "      </script>\n",
              "    </div>\n",
              "  </div>\n",
              "  "
            ]
          },
          "metadata": {},
          "execution_count": 4
        }
      ]
    },
    {
      "cell_type": "markdown",
      "source": [
        "A common strategy adopted by many associations rule mining algorithms is to decompose the problem into two major subtasks:\n",
        "\n",
        "* Frequent Itemset Generation, whose objective is to find all the itemsets that satisfy the minimum support threshold. These itemsets are called frequent itemsets.\n",
        "* Rule Generation, whose objective is to extract all the high-confidence rules from the frequent itemsets found in the previous step."
      ],
      "metadata": {
        "id": "2q-ykyn2-j6a"
      }
    },
    {
      "cell_type": "markdown",
      "source": [
        "### Frequent Itemset Generation\n",
        "\n",
        "Create the basket with transcations\n",
        "\n",
        "To know more about lambda function click [here](https://realpython.com/python-lambda/)"
      ],
      "metadata": {
        "id": "qMcq5L49_ML5"
      }
    },
    {
      "cell_type": "code",
      "source": [
        "# Creating the list of items for each order by  splitting with ','\n",
        "store_data['Items'] = store_data['Items'].apply(lambda x: x.split(','))\n",
        "store_data"
      ],
      "metadata": {
        "colab": {
          "base_uri": "https://localhost:8080/",
          "height": 676
        },
        "id": "gjZO6_0v-gcg",
        "outputId": "bad7da8f-b695-4d71-fe22-9e663bbcb522"
      },
      "execution_count": 5,
      "outputs": [
        {
          "output_type": "execute_result",
          "data": {
            "text/plain": [
              "                                  Items\n",
              "0                [MILK, BREAD, BISCUIT]\n",
              "1    [BREAD, MILK, BISCUIT, CORNFLAKES]\n",
              "2               [BREAD, TEA, BOURNVITA]\n",
              "3             [JAM, MAGGI, BREAD, MILK]\n",
              "4                 [MAGGI, TEA, BISCUIT]\n",
              "5               [BREAD, TEA, BOURNVITA]\n",
              "6              [MAGGI, TEA, CORNFLAKES]\n",
              "7          [MAGGI, BREAD, TEA, BISCUIT]\n",
              "8              [JAM, MAGGI, BREAD, TEA]\n",
              "9                         [BREAD, MILK]\n",
              "10  [COFFEE, COCK, BISCUIT, CORNFLAKES]\n",
              "11  [COFFEE, COCK, BISCUIT, CORNFLAKES]\n",
              "12           [COFFEE, SUGER, BOURNVITA]\n",
              "13                [BREAD, COFFEE, COCK]\n",
              "14              [BREAD, SUGER, BISCUIT]\n",
              "15          [COFFEE, SUGER, CORNFLAKES]\n",
              "16            [BREAD, SUGER, BOURNVITA]\n",
              "17               [BREAD, COFFEE, SUGER]\n",
              "18               [BREAD, COFFEE, SUGER]\n",
              "19      [TEA, MILK, COFFEE, CORNFLAKES]"
            ],
            "text/html": [
              "\n",
              "  <div id=\"df-f5f103ea-4f44-4466-9708-aab0a95c2d4f\">\n",
              "    <div class=\"colab-df-container\">\n",
              "      <div>\n",
              "<style scoped>\n",
              "    .dataframe tbody tr th:only-of-type {\n",
              "        vertical-align: middle;\n",
              "    }\n",
              "\n",
              "    .dataframe tbody tr th {\n",
              "        vertical-align: top;\n",
              "    }\n",
              "\n",
              "    .dataframe thead th {\n",
              "        text-align: right;\n",
              "    }\n",
              "</style>\n",
              "<table border=\"1\" class=\"dataframe\">\n",
              "  <thead>\n",
              "    <tr style=\"text-align: right;\">\n",
              "      <th></th>\n",
              "      <th>Items</th>\n",
              "    </tr>\n",
              "  </thead>\n",
              "  <tbody>\n",
              "    <tr>\n",
              "      <th>0</th>\n",
              "      <td>[MILK, BREAD, BISCUIT]</td>\n",
              "    </tr>\n",
              "    <tr>\n",
              "      <th>1</th>\n",
              "      <td>[BREAD, MILK, BISCUIT, CORNFLAKES]</td>\n",
              "    </tr>\n",
              "    <tr>\n",
              "      <th>2</th>\n",
              "      <td>[BREAD, TEA, BOURNVITA]</td>\n",
              "    </tr>\n",
              "    <tr>\n",
              "      <th>3</th>\n",
              "      <td>[JAM, MAGGI, BREAD, MILK]</td>\n",
              "    </tr>\n",
              "    <tr>\n",
              "      <th>4</th>\n",
              "      <td>[MAGGI, TEA, BISCUIT]</td>\n",
              "    </tr>\n",
              "    <tr>\n",
              "      <th>5</th>\n",
              "      <td>[BREAD, TEA, BOURNVITA]</td>\n",
              "    </tr>\n",
              "    <tr>\n",
              "      <th>6</th>\n",
              "      <td>[MAGGI, TEA, CORNFLAKES]</td>\n",
              "    </tr>\n",
              "    <tr>\n",
              "      <th>7</th>\n",
              "      <td>[MAGGI, BREAD, TEA, BISCUIT]</td>\n",
              "    </tr>\n",
              "    <tr>\n",
              "      <th>8</th>\n",
              "      <td>[JAM, MAGGI, BREAD, TEA]</td>\n",
              "    </tr>\n",
              "    <tr>\n",
              "      <th>9</th>\n",
              "      <td>[BREAD, MILK]</td>\n",
              "    </tr>\n",
              "    <tr>\n",
              "      <th>10</th>\n",
              "      <td>[COFFEE, COCK, BISCUIT, CORNFLAKES]</td>\n",
              "    </tr>\n",
              "    <tr>\n",
              "      <th>11</th>\n",
              "      <td>[COFFEE, COCK, BISCUIT, CORNFLAKES]</td>\n",
              "    </tr>\n",
              "    <tr>\n",
              "      <th>12</th>\n",
              "      <td>[COFFEE, SUGER, BOURNVITA]</td>\n",
              "    </tr>\n",
              "    <tr>\n",
              "      <th>13</th>\n",
              "      <td>[BREAD, COFFEE, COCK]</td>\n",
              "    </tr>\n",
              "    <tr>\n",
              "      <th>14</th>\n",
              "      <td>[BREAD, SUGER, BISCUIT]</td>\n",
              "    </tr>\n",
              "    <tr>\n",
              "      <th>15</th>\n",
              "      <td>[COFFEE, SUGER, CORNFLAKES]</td>\n",
              "    </tr>\n",
              "    <tr>\n",
              "      <th>16</th>\n",
              "      <td>[BREAD, SUGER, BOURNVITA]</td>\n",
              "    </tr>\n",
              "    <tr>\n",
              "      <th>17</th>\n",
              "      <td>[BREAD, COFFEE, SUGER]</td>\n",
              "    </tr>\n",
              "    <tr>\n",
              "      <th>18</th>\n",
              "      <td>[BREAD, COFFEE, SUGER]</td>\n",
              "    </tr>\n",
              "    <tr>\n",
              "      <th>19</th>\n",
              "      <td>[TEA, MILK, COFFEE, CORNFLAKES]</td>\n",
              "    </tr>\n",
              "  </tbody>\n",
              "</table>\n",
              "</div>\n",
              "      <button class=\"colab-df-convert\" onclick=\"convertToInteractive('df-f5f103ea-4f44-4466-9708-aab0a95c2d4f')\"\n",
              "              title=\"Convert this dataframe to an interactive table.\"\n",
              "              style=\"display:none;\">\n",
              "        \n",
              "  <svg xmlns=\"http://www.w3.org/2000/svg\" height=\"24px\"viewBox=\"0 0 24 24\"\n",
              "       width=\"24px\">\n",
              "    <path d=\"M0 0h24v24H0V0z\" fill=\"none\"/>\n",
              "    <path d=\"M18.56 5.44l.94 2.06.94-2.06 2.06-.94-2.06-.94-.94-2.06-.94 2.06-2.06.94zm-11 1L8.5 8.5l.94-2.06 2.06-.94-2.06-.94L8.5 2.5l-.94 2.06-2.06.94zm10 10l.94 2.06.94-2.06 2.06-.94-2.06-.94-.94-2.06-.94 2.06-2.06.94z\"/><path d=\"M17.41 7.96l-1.37-1.37c-.4-.4-.92-.59-1.43-.59-.52 0-1.04.2-1.43.59L10.3 9.45l-7.72 7.72c-.78.78-.78 2.05 0 2.83L4 21.41c.39.39.9.59 1.41.59.51 0 1.02-.2 1.41-.59l7.78-7.78 2.81-2.81c.8-.78.8-2.07 0-2.86zM5.41 20L4 18.59l7.72-7.72 1.47 1.35L5.41 20z\"/>\n",
              "  </svg>\n",
              "      </button>\n",
              "      \n",
              "  <style>\n",
              "    .colab-df-container {\n",
              "      display:flex;\n",
              "      flex-wrap:wrap;\n",
              "      gap: 12px;\n",
              "    }\n",
              "\n",
              "    .colab-df-convert {\n",
              "      background-color: #E8F0FE;\n",
              "      border: none;\n",
              "      border-radius: 50%;\n",
              "      cursor: pointer;\n",
              "      display: none;\n",
              "      fill: #1967D2;\n",
              "      height: 32px;\n",
              "      padding: 0 0 0 0;\n",
              "      width: 32px;\n",
              "    }\n",
              "\n",
              "    .colab-df-convert:hover {\n",
              "      background-color: #E2EBFA;\n",
              "      box-shadow: 0px 1px 2px rgba(60, 64, 67, 0.3), 0px 1px 3px 1px rgba(60, 64, 67, 0.15);\n",
              "      fill: #174EA6;\n",
              "    }\n",
              "\n",
              "    [theme=dark] .colab-df-convert {\n",
              "      background-color: #3B4455;\n",
              "      fill: #D2E3FC;\n",
              "    }\n",
              "\n",
              "    [theme=dark] .colab-df-convert:hover {\n",
              "      background-color: #434B5C;\n",
              "      box-shadow: 0px 1px 3px 1px rgba(0, 0, 0, 0.15);\n",
              "      filter: drop-shadow(0px 1px 2px rgba(0, 0, 0, 0.3));\n",
              "      fill: #FFFFFF;\n",
              "    }\n",
              "  </style>\n",
              "\n",
              "      <script>\n",
              "        const buttonEl =\n",
              "          document.querySelector('#df-f5f103ea-4f44-4466-9708-aab0a95c2d4f button.colab-df-convert');\n",
              "        buttonEl.style.display =\n",
              "          google.colab.kernel.accessAllowed ? 'block' : 'none';\n",
              "\n",
              "        async function convertToInteractive(key) {\n",
              "          const element = document.querySelector('#df-f5f103ea-4f44-4466-9708-aab0a95c2d4f');\n",
              "          const dataTable =\n",
              "            await google.colab.kernel.invokeFunction('convertToInteractive',\n",
              "                                                     [key], {});\n",
              "          if (!dataTable) return;\n",
              "\n",
              "          const docLinkHtml = 'Like what you see? Visit the ' +\n",
              "            '<a target=\"_blank\" href=https://colab.research.google.com/notebooks/data_table.ipynb>data table notebook</a>'\n",
              "            + ' to learn more about interactive tables.';\n",
              "          element.innerHTML = '';\n",
              "          dataTable['output_type'] = 'display_data';\n",
              "          await google.colab.output.renderOutput(dataTable, element);\n",
              "          const docLink = document.createElement('div');\n",
              "          docLink.innerHTML = docLinkHtml;\n",
              "          element.appendChild(docLink);\n",
              "        }\n",
              "      </script>\n",
              "    </div>\n",
              "  </div>\n",
              "  "
            ]
          },
          "metadata": {},
          "execution_count": 5
        }
      ]
    },
    {
      "cell_type": "code",
      "source": [
        "# Finding the unique items for all the orders\n",
        "\n",
        "unique_items = [] # defining a empty list\n",
        "\n",
        "#Iterating over the records in the dataset\n",
        "for i in store_data['Items']:\n",
        "  unique_items.extend(i) # extending the \n",
        "\n",
        "# extracting the unique items from the list by converting the list into the set\n",
        "unique_items = set(unique_items)\n",
        "unique_items"
      ],
      "metadata": {
        "colab": {
          "base_uri": "https://localhost:8080/"
        },
        "id": "D-pVGMJP_qhk",
        "outputId": "a3672d6f-0284-431f-cf42-7ec19a2196f6"
      },
      "execution_count": 6,
      "outputs": [
        {
          "output_type": "execute_result",
          "data": {
            "text/plain": [
              "{'BISCUIT',\n",
              " 'BOURNVITA',\n",
              " 'BREAD',\n",
              " 'COCK',\n",
              " 'COFFEE',\n",
              " 'CORNFLAKES',\n",
              " 'JAM',\n",
              " 'MAGGI',\n",
              " 'MILK',\n",
              " 'SUGER',\n",
              " 'TEA'}"
            ]
          },
          "metadata": {},
          "execution_count": 6
        }
      ]
    },
    {
      "cell_type": "markdown",
      "source": [
        "To know about extend click [here](https://www.techbeamers.com/python-list-extend/)"
      ],
      "metadata": {
        "id": "YG-pSLI8AYUB"
      }
    },
    {
      "cell_type": "code",
      "source": [
        "# Initializing an empty dictionary\n",
        "collections = dict()\n",
        "\n",
        "# Iterating over the unique items and indexing  in each item\n",
        "for item in unique_items:\n",
        "  #Creating a dictionary where item is the key and occurence of the item in the record is the value\n",
        "  collections[item] = [1 if item in row else 0 for row in store_data['Items']]\n",
        "orders = pd.DataFrame(collections)\n",
        "orders"
      ],
      "metadata": {
        "colab": {
          "base_uri": "https://localhost:8080/",
          "height": 676
        },
        "id": "cc6GFQnmAOfc",
        "outputId": "8715be3b-92cf-4c02-ae72-aa26716e8844"
      },
      "execution_count": 8,
      "outputs": [
        {
          "output_type": "execute_result",
          "data": {
            "text/plain": [
              "    SUGER  COCK  BREAD  BISCUIT  MAGGI  COFFEE  JAM  CORNFLAKES  TEA  \\\n",
              "0       0     0      1        1      0       0    0           0    0   \n",
              "1       0     0      1        1      0       0    0           1    0   \n",
              "2       0     0      1        0      0       0    0           0    1   \n",
              "3       0     0      1        0      1       0    1           0    0   \n",
              "4       0     0      0        1      1       0    0           0    1   \n",
              "5       0     0      1        0      0       0    0           0    1   \n",
              "6       0     0      0        0      1       0    0           1    1   \n",
              "7       0     0      1        1      1       0    0           0    1   \n",
              "8       0     0      1        0      1       0    1           0    1   \n",
              "9       0     0      1        0      0       0    0           0    0   \n",
              "10      0     1      0        1      0       1    0           1    0   \n",
              "11      0     1      0        1      0       1    0           1    0   \n",
              "12      1     0      0        0      0       1    0           0    0   \n",
              "13      0     1      1        0      0       1    0           0    0   \n",
              "14      1     0      1        1      0       0    0           0    0   \n",
              "15      1     0      0        0      0       1    0           1    0   \n",
              "16      1     0      1        0      0       0    0           0    0   \n",
              "17      1     0      1        0      0       1    0           0    0   \n",
              "18      1     0      1        0      0       1    0           0    0   \n",
              "19      0     0      0        0      0       1    0           1    1   \n",
              "\n",
              "    BOURNVITA  MILK  \n",
              "0           0     1  \n",
              "1           0     1  \n",
              "2           1     0  \n",
              "3           0     1  \n",
              "4           0     0  \n",
              "5           1     0  \n",
              "6           0     0  \n",
              "7           0     0  \n",
              "8           0     0  \n",
              "9           0     1  \n",
              "10          0     0  \n",
              "11          0     0  \n",
              "12          1     0  \n",
              "13          0     0  \n",
              "14          0     0  \n",
              "15          0     0  \n",
              "16          1     0  \n",
              "17          0     0  \n",
              "18          0     0  \n",
              "19          0     1  "
            ],
            "text/html": [
              "\n",
              "  <div id=\"df-d5a47e26-134d-45ad-a22e-04ce3b8acd0b\">\n",
              "    <div class=\"colab-df-container\">\n",
              "      <div>\n",
              "<style scoped>\n",
              "    .dataframe tbody tr th:only-of-type {\n",
              "        vertical-align: middle;\n",
              "    }\n",
              "\n",
              "    .dataframe tbody tr th {\n",
              "        vertical-align: top;\n",
              "    }\n",
              "\n",
              "    .dataframe thead th {\n",
              "        text-align: right;\n",
              "    }\n",
              "</style>\n",
              "<table border=\"1\" class=\"dataframe\">\n",
              "  <thead>\n",
              "    <tr style=\"text-align: right;\">\n",
              "      <th></th>\n",
              "      <th>SUGER</th>\n",
              "      <th>COCK</th>\n",
              "      <th>BREAD</th>\n",
              "      <th>BISCUIT</th>\n",
              "      <th>MAGGI</th>\n",
              "      <th>COFFEE</th>\n",
              "      <th>JAM</th>\n",
              "      <th>CORNFLAKES</th>\n",
              "      <th>TEA</th>\n",
              "      <th>BOURNVITA</th>\n",
              "      <th>MILK</th>\n",
              "    </tr>\n",
              "  </thead>\n",
              "  <tbody>\n",
              "    <tr>\n",
              "      <th>0</th>\n",
              "      <td>0</td>\n",
              "      <td>0</td>\n",
              "      <td>1</td>\n",
              "      <td>1</td>\n",
              "      <td>0</td>\n",
              "      <td>0</td>\n",
              "      <td>0</td>\n",
              "      <td>0</td>\n",
              "      <td>0</td>\n",
              "      <td>0</td>\n",
              "      <td>1</td>\n",
              "    </tr>\n",
              "    <tr>\n",
              "      <th>1</th>\n",
              "      <td>0</td>\n",
              "      <td>0</td>\n",
              "      <td>1</td>\n",
              "      <td>1</td>\n",
              "      <td>0</td>\n",
              "      <td>0</td>\n",
              "      <td>0</td>\n",
              "      <td>1</td>\n",
              "      <td>0</td>\n",
              "      <td>0</td>\n",
              "      <td>1</td>\n",
              "    </tr>\n",
              "    <tr>\n",
              "      <th>2</th>\n",
              "      <td>0</td>\n",
              "      <td>0</td>\n",
              "      <td>1</td>\n",
              "      <td>0</td>\n",
              "      <td>0</td>\n",
              "      <td>0</td>\n",
              "      <td>0</td>\n",
              "      <td>0</td>\n",
              "      <td>1</td>\n",
              "      <td>1</td>\n",
              "      <td>0</td>\n",
              "    </tr>\n",
              "    <tr>\n",
              "      <th>3</th>\n",
              "      <td>0</td>\n",
              "      <td>0</td>\n",
              "      <td>1</td>\n",
              "      <td>0</td>\n",
              "      <td>1</td>\n",
              "      <td>0</td>\n",
              "      <td>1</td>\n",
              "      <td>0</td>\n",
              "      <td>0</td>\n",
              "      <td>0</td>\n",
              "      <td>1</td>\n",
              "    </tr>\n",
              "    <tr>\n",
              "      <th>4</th>\n",
              "      <td>0</td>\n",
              "      <td>0</td>\n",
              "      <td>0</td>\n",
              "      <td>1</td>\n",
              "      <td>1</td>\n",
              "      <td>0</td>\n",
              "      <td>0</td>\n",
              "      <td>0</td>\n",
              "      <td>1</td>\n",
              "      <td>0</td>\n",
              "      <td>0</td>\n",
              "    </tr>\n",
              "    <tr>\n",
              "      <th>5</th>\n",
              "      <td>0</td>\n",
              "      <td>0</td>\n",
              "      <td>1</td>\n",
              "      <td>0</td>\n",
              "      <td>0</td>\n",
              "      <td>0</td>\n",
              "      <td>0</td>\n",
              "      <td>0</td>\n",
              "      <td>1</td>\n",
              "      <td>1</td>\n",
              "      <td>0</td>\n",
              "    </tr>\n",
              "    <tr>\n",
              "      <th>6</th>\n",
              "      <td>0</td>\n",
              "      <td>0</td>\n",
              "      <td>0</td>\n",
              "      <td>0</td>\n",
              "      <td>1</td>\n",
              "      <td>0</td>\n",
              "      <td>0</td>\n",
              "      <td>1</td>\n",
              "      <td>1</td>\n",
              "      <td>0</td>\n",
              "      <td>0</td>\n",
              "    </tr>\n",
              "    <tr>\n",
              "      <th>7</th>\n",
              "      <td>0</td>\n",
              "      <td>0</td>\n",
              "      <td>1</td>\n",
              "      <td>1</td>\n",
              "      <td>1</td>\n",
              "      <td>0</td>\n",
              "      <td>0</td>\n",
              "      <td>0</td>\n",
              "      <td>1</td>\n",
              "      <td>0</td>\n",
              "      <td>0</td>\n",
              "    </tr>\n",
              "    <tr>\n",
              "      <th>8</th>\n",
              "      <td>0</td>\n",
              "      <td>0</td>\n",
              "      <td>1</td>\n",
              "      <td>0</td>\n",
              "      <td>1</td>\n",
              "      <td>0</td>\n",
              "      <td>1</td>\n",
              "      <td>0</td>\n",
              "      <td>1</td>\n",
              "      <td>0</td>\n",
              "      <td>0</td>\n",
              "    </tr>\n",
              "    <tr>\n",
              "      <th>9</th>\n",
              "      <td>0</td>\n",
              "      <td>0</td>\n",
              "      <td>1</td>\n",
              "      <td>0</td>\n",
              "      <td>0</td>\n",
              "      <td>0</td>\n",
              "      <td>0</td>\n",
              "      <td>0</td>\n",
              "      <td>0</td>\n",
              "      <td>0</td>\n",
              "      <td>1</td>\n",
              "    </tr>\n",
              "    <tr>\n",
              "      <th>10</th>\n",
              "      <td>0</td>\n",
              "      <td>1</td>\n",
              "      <td>0</td>\n",
              "      <td>1</td>\n",
              "      <td>0</td>\n",
              "      <td>1</td>\n",
              "      <td>0</td>\n",
              "      <td>1</td>\n",
              "      <td>0</td>\n",
              "      <td>0</td>\n",
              "      <td>0</td>\n",
              "    </tr>\n",
              "    <tr>\n",
              "      <th>11</th>\n",
              "      <td>0</td>\n",
              "      <td>1</td>\n",
              "      <td>0</td>\n",
              "      <td>1</td>\n",
              "      <td>0</td>\n",
              "      <td>1</td>\n",
              "      <td>0</td>\n",
              "      <td>1</td>\n",
              "      <td>0</td>\n",
              "      <td>0</td>\n",
              "      <td>0</td>\n",
              "    </tr>\n",
              "    <tr>\n",
              "      <th>12</th>\n",
              "      <td>1</td>\n",
              "      <td>0</td>\n",
              "      <td>0</td>\n",
              "      <td>0</td>\n",
              "      <td>0</td>\n",
              "      <td>1</td>\n",
              "      <td>0</td>\n",
              "      <td>0</td>\n",
              "      <td>0</td>\n",
              "      <td>1</td>\n",
              "      <td>0</td>\n",
              "    </tr>\n",
              "    <tr>\n",
              "      <th>13</th>\n",
              "      <td>0</td>\n",
              "      <td>1</td>\n",
              "      <td>1</td>\n",
              "      <td>0</td>\n",
              "      <td>0</td>\n",
              "      <td>1</td>\n",
              "      <td>0</td>\n",
              "      <td>0</td>\n",
              "      <td>0</td>\n",
              "      <td>0</td>\n",
              "      <td>0</td>\n",
              "    </tr>\n",
              "    <tr>\n",
              "      <th>14</th>\n",
              "      <td>1</td>\n",
              "      <td>0</td>\n",
              "      <td>1</td>\n",
              "      <td>1</td>\n",
              "      <td>0</td>\n",
              "      <td>0</td>\n",
              "      <td>0</td>\n",
              "      <td>0</td>\n",
              "      <td>0</td>\n",
              "      <td>0</td>\n",
              "      <td>0</td>\n",
              "    </tr>\n",
              "    <tr>\n",
              "      <th>15</th>\n",
              "      <td>1</td>\n",
              "      <td>0</td>\n",
              "      <td>0</td>\n",
              "      <td>0</td>\n",
              "      <td>0</td>\n",
              "      <td>1</td>\n",
              "      <td>0</td>\n",
              "      <td>1</td>\n",
              "      <td>0</td>\n",
              "      <td>0</td>\n",
              "      <td>0</td>\n",
              "    </tr>\n",
              "    <tr>\n",
              "      <th>16</th>\n",
              "      <td>1</td>\n",
              "      <td>0</td>\n",
              "      <td>1</td>\n",
              "      <td>0</td>\n",
              "      <td>0</td>\n",
              "      <td>0</td>\n",
              "      <td>0</td>\n",
              "      <td>0</td>\n",
              "      <td>0</td>\n",
              "      <td>1</td>\n",
              "      <td>0</td>\n",
              "    </tr>\n",
              "    <tr>\n",
              "      <th>17</th>\n",
              "      <td>1</td>\n",
              "      <td>0</td>\n",
              "      <td>1</td>\n",
              "      <td>0</td>\n",
              "      <td>0</td>\n",
              "      <td>1</td>\n",
              "      <td>0</td>\n",
              "      <td>0</td>\n",
              "      <td>0</td>\n",
              "      <td>0</td>\n",
              "      <td>0</td>\n",
              "    </tr>\n",
              "    <tr>\n",
              "      <th>18</th>\n",
              "      <td>1</td>\n",
              "      <td>0</td>\n",
              "      <td>1</td>\n",
              "      <td>0</td>\n",
              "      <td>0</td>\n",
              "      <td>1</td>\n",
              "      <td>0</td>\n",
              "      <td>0</td>\n",
              "      <td>0</td>\n",
              "      <td>0</td>\n",
              "      <td>0</td>\n",
              "    </tr>\n",
              "    <tr>\n",
              "      <th>19</th>\n",
              "      <td>0</td>\n",
              "      <td>0</td>\n",
              "      <td>0</td>\n",
              "      <td>0</td>\n",
              "      <td>0</td>\n",
              "      <td>1</td>\n",
              "      <td>0</td>\n",
              "      <td>1</td>\n",
              "      <td>1</td>\n",
              "      <td>0</td>\n",
              "      <td>1</td>\n",
              "    </tr>\n",
              "  </tbody>\n",
              "</table>\n",
              "</div>\n",
              "      <button class=\"colab-df-convert\" onclick=\"convertToInteractive('df-d5a47e26-134d-45ad-a22e-04ce3b8acd0b')\"\n",
              "              title=\"Convert this dataframe to an interactive table.\"\n",
              "              style=\"display:none;\">\n",
              "        \n",
              "  <svg xmlns=\"http://www.w3.org/2000/svg\" height=\"24px\"viewBox=\"0 0 24 24\"\n",
              "       width=\"24px\">\n",
              "    <path d=\"M0 0h24v24H0V0z\" fill=\"none\"/>\n",
              "    <path d=\"M18.56 5.44l.94 2.06.94-2.06 2.06-.94-2.06-.94-.94-2.06-.94 2.06-2.06.94zm-11 1L8.5 8.5l.94-2.06 2.06-.94-2.06-.94L8.5 2.5l-.94 2.06-2.06.94zm10 10l.94 2.06.94-2.06 2.06-.94-2.06-.94-.94-2.06-.94 2.06-2.06.94z\"/><path d=\"M17.41 7.96l-1.37-1.37c-.4-.4-.92-.59-1.43-.59-.52 0-1.04.2-1.43.59L10.3 9.45l-7.72 7.72c-.78.78-.78 2.05 0 2.83L4 21.41c.39.39.9.59 1.41.59.51 0 1.02-.2 1.41-.59l7.78-7.78 2.81-2.81c.8-.78.8-2.07 0-2.86zM5.41 20L4 18.59l7.72-7.72 1.47 1.35L5.41 20z\"/>\n",
              "  </svg>\n",
              "      </button>\n",
              "      \n",
              "  <style>\n",
              "    .colab-df-container {\n",
              "      display:flex;\n",
              "      flex-wrap:wrap;\n",
              "      gap: 12px;\n",
              "    }\n",
              "\n",
              "    .colab-df-convert {\n",
              "      background-color: #E8F0FE;\n",
              "      border: none;\n",
              "      border-radius: 50%;\n",
              "      cursor: pointer;\n",
              "      display: none;\n",
              "      fill: #1967D2;\n",
              "      height: 32px;\n",
              "      padding: 0 0 0 0;\n",
              "      width: 32px;\n",
              "    }\n",
              "\n",
              "    .colab-df-convert:hover {\n",
              "      background-color: #E2EBFA;\n",
              "      box-shadow: 0px 1px 2px rgba(60, 64, 67, 0.3), 0px 1px 3px 1px rgba(60, 64, 67, 0.15);\n",
              "      fill: #174EA6;\n",
              "    }\n",
              "\n",
              "    [theme=dark] .colab-df-convert {\n",
              "      background-color: #3B4455;\n",
              "      fill: #D2E3FC;\n",
              "    }\n",
              "\n",
              "    [theme=dark] .colab-df-convert:hover {\n",
              "      background-color: #434B5C;\n",
              "      box-shadow: 0px 1px 3px 1px rgba(0, 0, 0, 0.15);\n",
              "      filter: drop-shadow(0px 1px 2px rgba(0, 0, 0, 0.3));\n",
              "      fill: #FFFFFF;\n",
              "    }\n",
              "  </style>\n",
              "\n",
              "      <script>\n",
              "        const buttonEl =\n",
              "          document.querySelector('#df-d5a47e26-134d-45ad-a22e-04ce3b8acd0b button.colab-df-convert');\n",
              "        buttonEl.style.display =\n",
              "          google.colab.kernel.accessAllowed ? 'block' : 'none';\n",
              "\n",
              "        async function convertToInteractive(key) {\n",
              "          const element = document.querySelector('#df-d5a47e26-134d-45ad-a22e-04ce3b8acd0b');\n",
              "          const dataTable =\n",
              "            await google.colab.kernel.invokeFunction('convertToInteractive',\n",
              "                                                     [key], {});\n",
              "          if (!dataTable) return;\n",
              "\n",
              "          const docLinkHtml = 'Like what you see? Visit the ' +\n",
              "            '<a target=\"_blank\" href=https://colab.research.google.com/notebooks/data_table.ipynb>data table notebook</a>'\n",
              "            + ' to learn more about interactive tables.';\n",
              "          element.innerHTML = '';\n",
              "          dataTable['output_type'] = 'display_data';\n",
              "          await google.colab.output.renderOutput(dataTable, element);\n",
              "          const docLink = document.createElement('div');\n",
              "          docLink.innerHTML = docLinkHtml;\n",
              "          element.appendChild(docLink);\n",
              "        }\n",
              "      </script>\n",
              "    </div>\n",
              "  </div>\n",
              "  "
            ]
          },
          "metadata": {},
          "execution_count": 8
        }
      ]
    },
    {
      "cell_type": "markdown",
      "source": [
        "#### Giving an index to each item to represent it with number in each transcations"
      ],
      "metadata": {
        "id": "S_nSJZdGBSA_"
      }
    },
    {
      "cell_type": "code",
      "source": [
        "item_dict = dict(zip(unique_items, range(1, len(unique_items))))\n",
        "item_dict"
      ],
      "metadata": {
        "colab": {
          "base_uri": "https://localhost:8080/"
        },
        "id": "IjHhTbbKBC4z",
        "outputId": "204b3528-41c9-45d0-de4e-267f757b200a"
      },
      "execution_count": 9,
      "outputs": [
        {
          "output_type": "execute_result",
          "data": {
            "text/plain": [
              "{'BISCUIT': 4,\n",
              " 'BOURNVITA': 10,\n",
              " 'BREAD': 3,\n",
              " 'COCK': 2,\n",
              " 'COFFEE': 6,\n",
              " 'CORNFLAKES': 8,\n",
              " 'JAM': 7,\n",
              " 'MAGGI': 5,\n",
              " 'SUGER': 1,\n",
              " 'TEA': 9}"
            ]
          },
          "metadata": {},
          "execution_count": 9
        }
      ]
    },
    {
      "cell_type": "code",
      "source": [
        "item_list = list(orders.columns)\n",
        "item_dict = dict()\n",
        "\n",
        "#Iterating the item list\n",
        "for i, item in enumerate(item_list):\n",
        "  #Assigining the index to item name to represent with a number\n",
        "  item_dict[item] = i+1\n",
        "\n",
        "item_dict\n"
      ],
      "metadata": {
        "colab": {
          "base_uri": "https://localhost:8080/"
        },
        "id": "83ShHvm1BiOV",
        "outputId": "b450dcfe-2ff1-42b8-ea99-24f1f8ca653e"
      },
      "execution_count": 10,
      "outputs": [
        {
          "output_type": "execute_result",
          "data": {
            "text/plain": [
              "{'BISCUIT': 4,\n",
              " 'BOURNVITA': 10,\n",
              " 'BREAD': 3,\n",
              " 'COCK': 2,\n",
              " 'COFFEE': 6,\n",
              " 'CORNFLAKES': 8,\n",
              " 'JAM': 7,\n",
              " 'MAGGI': 5,\n",
              " 'MILK': 11,\n",
              " 'SUGER': 1,\n",
              " 'TEA': 9}"
            ]
          },
          "metadata": {},
          "execution_count": 10
        }
      ]
    },
    {
      "cell_type": "markdown",
      "source": [
        "#### Identifying the patter of the items purchased in each order"
      ],
      "metadata": {
        "id": "MHD9oomFCHnd"
      }
    },
    {
      "cell_type": "code",
      "source": [
        "transactions = list()\n",
        "for i, row in orders.iterrows():\n",
        "  transaction = set()\n",
        "\n",
        "  for item in item_dict:\n",
        "    if row[item] != 0:\n",
        "      transaction.add(item_dict[item])\n",
        "  transactions.append(transaction)\n",
        "\n",
        "transactions"
      ],
      "metadata": {
        "colab": {
          "base_uri": "https://localhost:8080/"
        },
        "id": "-ND_UrLlCBIF",
        "outputId": "b2dc6f56-410d-499a-a0b3-343cc61eb73a"
      },
      "execution_count": 14,
      "outputs": [
        {
          "output_type": "execute_result",
          "data": {
            "text/plain": [
              "[{3, 4, 11},\n",
              " {3, 4, 8, 11},\n",
              " {3, 9, 10},\n",
              " {3, 5, 7, 11},\n",
              " {4, 5, 9},\n",
              " {3, 9, 10},\n",
              " {5, 8, 9},\n",
              " {3, 4, 5, 9},\n",
              " {3, 5, 7, 9},\n",
              " {3, 11},\n",
              " {2, 4, 6, 8},\n",
              " {2, 4, 6, 8},\n",
              " {1, 6, 10},\n",
              " {2, 3, 6},\n",
              " {1, 3, 4},\n",
              " {1, 6, 8},\n",
              " {1, 3, 10},\n",
              " {1, 3, 6},\n",
              " {1, 3, 6},\n",
              " {6, 8, 9, 11}]"
            ]
          },
          "metadata": {},
          "execution_count": 14
        }
      ]
    },
    {
      "cell_type": "markdown",
      "source": [
        "### Helper functions\n",
        "\n",
        "Let's create a function that return the support value for the given item_set from the provided list of transcations."
      ],
      "metadata": {
        "id": "y-F_JhSPCxX7"
      }
    },
    {
      "cell_type": "code",
      "source": [
        "def get_support(transactions, item_set):\n",
        "  match_count = 0 # initializing a varibale to store the number of transactions where the given item_set is found.\n",
        "\n",
        "  # Iterating through the list of transactions\n",
        "  for transaction in transactions:\n",
        "    if item_set.issubset(transaction):\n",
        "      match_count += 1 # incrementing the count when above considition is met\n",
        "  # support value calculated by divinding the match_count by total number of transactions is returned\n",
        "  return float(match_count/len(transactions))\n"
      ],
      "metadata": {
        "id": "u6tuOnz1Cnaj"
      },
      "execution_count": 15,
      "outputs": []
    },
    {
      "cell_type": "markdown",
      "source": [
        "Let us create another helper function which performs self join in the given list of frequent itemset of previous level and generates the candidate itemsetss for the current level."
      ],
      "metadata": {
        "id": "Rnvb3-PyEA8C"
      }
    },
    {
      "cell_type": "code",
      "source": [
        "#this function takes 2 arguments as input. the 1st argument is map of level tp the list of itemsets found\n",
        "# to be frequent for that level, 2nd argument if the current level number.\n",
        "\n",
        "def self_join(frequent_item_sets_per_level, level):\n",
        "  # intializing an empty list to store the current level candidates\n",
        "  current_level_candidates = list()\n",
        "  # Storing the list of frequent itemsets from the previous level\n",
        "  last_level_items = frequent_item_sets_per_level[level - 1]\n",
        "\n",
        "  # If there are no frequent itemsets from the previous level, it returns and empty list for current_level_candidates.\n",
        "  # Otherwise, it iterates through each itemset in last_level_items starting from 0 for index i\n",
        "  # and for each itemset in last_level_items starting from 1 fro index j\n",
        "  if len(last_level_items) == 0:\n",
        "    return current_level_candidates\n",
        "\n",
        "  for i in range(len(last_level_items)):\n",
        "    for j in range(i+1, len(last_level_items)):\n",
        "      itemset_i = last_level_items[i][0]\n",
        "      itemset_j = last_level_items[j][0]\n",
        "      #union of itemset at indices i and j\n",
        "      union_set = itemset_i.union(itemset_j)\n",
        "\n",
        "      # If this union_set is not already present in current level_candidate and the \n",
        "      # number of elements in the union_set is equal to the level_number, \n",
        "      # then this union_set is appended into current_level_candidates.\n",
        "      if union_set not in current_level_candidates and len(union_set) == level:\n",
        "        current_level_candidates.append(union_set)\n",
        "\n",
        "  return current_level_candidates"
      ],
      "metadata": {
        "id": "MXUDlem0D_l7"
      },
      "execution_count": 16,
      "outputs": []
    },
    {
      "cell_type": "markdown",
      "source": [
        "We have to check for the number of elements in union_set to ensure that the current_level_candidates contain only the sets of fixed length. This is a requirement for Apriori Algorithm\n",
        "\n",
        "Let's create another that returns the subsets of the given items with one item less."
      ],
      "metadata": {
        "id": "4dln2fQNJgin"
      }
    },
    {
      "cell_type": "code",
      "source": [
        "def get_single_drop_subsets(item_set):\n",
        "  # ininitalizing an empty list\n",
        "  single_drop_subsets = list()\n",
        "\n",
        "  #Iterating over each item in the item set\n",
        "  for item in item_set:\n",
        "    # ceating a temporary copy of the item_set (a subset of length one less than the length of the item_set)\n",
        "    temp = item_set.copy()\n",
        "    # removing this item from the temporary item set (a subset of length one less than the length of the item_set)\n",
        "    temp.remove(item)\n",
        "    # append this temporary set to the single_drop_subsets\n",
        "    single_drop_subsets.append(temp)\n",
        "\n",
        "  return single_drop_subsets"
      ],
      "metadata": {
        "id": "tKrRI0kqGlyY"
      },
      "execution_count": 17,
      "outputs": []
    },
    {
      "cell_type": "markdown",
      "source": [
        "**is_valid_set()** checks if the given item_set is valid, i.e., has all its subsets with support value greater than the minimum support value. It relies on the fact that prev_level_sets contains only those item_sets which are frequent, i.e.. have support value greater than the minimum support value.\n",
        "\n",
        "Now let's create another function that checks if the given item_set is valid, i.e,. has all its subsets with support value greater than the minimum support value. It relies on the fact that pre_level_sets contains only those item_sets which are frequent, i.e., have support value greater than the minimum support value."
      ],
      "metadata": {
        "id": "h-yhfVqLhAMV"
      }
    },
    {
      "cell_type": "code",
      "source": [
        "def is_valid_set(item_set, prev_level_sets):\n",
        "  #generating all the subsets of the given item_set with length one less than the length of the original item_set.\n",
        "  # This is done using the above described function get_single_Drop_subsets()\n",
        "  single_drop_subsets = get_single_drop_subsets(item_set)\n",
        "\n",
        "  # iterating through the single_drop_subsets list.\n",
        "  for single_drop_set in single_drop_subsets:\n",
        "    # checks if it was present in the prev_level_sets. If it wasn't it means the given\n",
        "    # item_set is a superset of a non-frequent item_set. Thus, it returns False\n",
        "    # if all the single_drop_subsetsare frequent itemsets, and are present in the prev_level_sets, it returns True\n",
        "    if single_drop_set not in prev_level_sets:\n",
        "      return False\n",
        "  return True"
      ],
      "metadata": {
        "id": "vCylIZVpg-9_"
      },
      "execution_count": 18,
      "outputs": []
    },
    {
      "cell_type": "markdown",
      "source": [
        "Now let's perform the pruning step of the Apriori Algorithm. It takes a list candidate itemset checks if all its subsets are frequent itemsets. If not, it prunes it, If yes, it adds it to the list of post_pruning_set."
      ],
      "metadata": {
        "id": "xvXUdLGcjTGH"
      }
    },
    {
      "cell_type": "code",
      "source": [
        "def pruning(frequent_item_sets_per_level, level, candidate_set):\n",
        "  # Initializing empty list to store the list of frequent itemsets for the current level\n",
        "  # after performing pruning operation on the given list of candidate sets.\n",
        "  post_pruning_set = list()\n",
        "  # If there are no candidate_set, it returns an empty list.\n",
        "  # Otherwise, it first creates a list of frequent itemsets from the previous level and stores it in prev_level_sets.\n",
        "  if len(candidate_set) == 0:\n",
        "    return post_pruning_set\n",
        "\n",
        "  prev_level_sets = list()\n",
        "  for item_set, _ in frequent_item_sets_per_level[level - 1]:\n",
        "    prev_level_sets.append(item_set)\n",
        "\n",
        "  # Iterating over each item_set in candidate_set list\n",
        "  for item_set in candidate_set:\n",
        "    # Checking whether it is valid itemset or not\n",
        "    if is_valid_set(item_set, prev_level_sets):\n",
        "      #If this item_set is valid, it is appeneded to the list of post_pruning_set.\n",
        "      post_pruning_set.append(item_set)\n",
        "\n",
        "  return post_pruning_set"
      ],
      "metadata": {
        "id": "hjgYuK4ejQUb"
      },
      "execution_count": 20,
      "outputs": []
    },
    {
      "cell_type": "markdown",
      "source": [
        "### Apriori algorithm\n",
        "\n",
        "Now let us use all the above defined helper functions to implement the Apriori Algorithm and generate the list of frequent itemsets for each level for the provided transcations and min_support value"
      ],
      "metadata": {
        "id": "Nc4PkxYWlVGx"
      }
    },
    {
      "cell_type": "code",
      "source": [
        "def apriori(min_support):\n",
        "  # creating a default empty dictionary which maps level numbers to the list of frequent itemsets for that level\n",
        "  frequent_item_sets_per_level = defaultdict(list)\n",
        "  print(\"level : 1\", end= \" \")\n",
        "\n",
        "  # iterating through the list of all items item_list\n",
        "  for item in range(1, len(item_list) + 1):\n",
        "    # Calculate the support value of each item using the helper function get_support().\n",
        "    # If this support value is greater than or equal to the provided min_support value,\n",
        "    # this item_set is added to the list of frequent itemsets for this level.\n",
        "    support = get_support(transactions, {item})\n",
        "    if support >= min_support:\n",
        "      # every itemset is stored as a pair of 2 values: item, support\n",
        "      frequent_item_sets_per_level[1].append(({item}, support))\n",
        "\n",
        "  # For each level greater than 1, generate the current_level_candidates_itemsets\n",
        "  # by performing self_join() on the frequent itemsets of the prvious level.\n",
        "  for level in range(2, len(item_list) + 1):\n",
        "    print(level, end = \" \")\n",
        "    current_level_candidates = self_join(frequent_item_sets_per_level, level)\n",
        "\n",
        "    # perform the pruning operation on these current_level_candidates using the pruning() \n",
        "    # helper function defined above, and obtain the results in post_pruning_candidates\n",
        "    post_pruning_candidates = pruning(frequent_item_sets_per_level, level, current_level_candidates)\n",
        "    # if there is no itemset left after pruning , we break the loop.\n",
        "    # It means there is no point in processing for further levels.\n",
        "    # Otherwise, for each item_set in post_pruning_candidates,\n",
        "    # we calculate the support value using the get_support() helper function.\n",
        "    if len(post_pruning_candidates) == 0:\n",
        "      break\n",
        "\n",
        "    for item_set in post_pruning_candidates:\n",
        "      support = get_support(transactions, item_set)\n",
        "      # If this support value is greater than or equal to the given min_support,\n",
        "      # we append this item_set into the list of frequent itemsets for this level.\n",
        "      if support >= min_support:\n",
        "        frequent_item_sets_per_level[level].append((item_set, support))\n",
        "\n",
        "  return frequent_item_sets_per_level\n"
      ],
      "metadata": {
        "id": "lcTCy4JmlNWq"
      },
      "execution_count": 21,
      "outputs": []
    },
    {
      "cell_type": "code",
      "source": [
        "# defining the minimum support value as 0.005\n",
        "min_support = 0.005\n",
        "frequent_item_sets_per_level = apriori(min_support)"
      ],
      "metadata": {
        "colab": {
          "base_uri": "https://localhost:8080/"
        },
        "id": "QkVPA5Ldx6F4",
        "outputId": "bf418b7d-412f-4a98-cb94-9c43eeeb8c7f"
      },
      "execution_count": 22,
      "outputs": [
        {
          "output_type": "stream",
          "name": "stdout",
          "text": [
            "level : 1 2 3 4 5 "
          ]
        }
      ]
    },
    {
      "cell_type": "code",
      "source": [
        "for level in frequent_item_sets_per_level:\n",
        "  print(len(frequent_item_sets_per_level[level]))"
      ],
      "metadata": {
        "colab": {
          "base_uri": "https://localhost:8080/"
        },
        "id": "b37JlUYXyIqd",
        "outputId": "c5842dc1-1638-4948-903e-2361b0631abb"
      },
      "execution_count": 23,
      "outputs": [
        {
          "output_type": "stream",
          "name": "stdout",
          "text": [
            "11\n",
            "36\n",
            "30\n",
            "6\n"
          ]
        }
      ]
    },
    {
      "cell_type": "code",
      "source": [
        "for level in frequent_item_sets_per_level:\n",
        "  print(frequent_item_sets_per_level[level])"
      ],
      "metadata": {
        "colab": {
          "base_uri": "https://localhost:8080/"
        },
        "id": "Kz1OjofHyTq0",
        "outputId": "ed4a1a1f-5145-4d00-b889-d54820d5d2aa"
      },
      "execution_count": 24,
      "outputs": [
        {
          "output_type": "stream",
          "name": "stdout",
          "text": [
            "[({1}, 0.3), ({2}, 0.15), ({3}, 0.65), ({4}, 0.35), ({5}, 0.25), ({6}, 0.4), ({7}, 0.1), ({8}, 0.3), ({9}, 0.35), ({10}, 0.2), ({11}, 0.25)]\n",
            "[({1, 3}, 0.2), ({1, 4}, 0.05), ({1, 6}, 0.2), ({8, 1}, 0.05), ({1, 10}, 0.1), ({2, 3}, 0.05), ({2, 4}, 0.1), ({2, 6}, 0.15), ({8, 2}, 0.1), ({3, 4}, 0.2), ({3, 5}, 0.15), ({3, 6}, 0.15), ({3, 7}, 0.1), ({8, 3}, 0.05), ({9, 3}, 0.2), ({10, 3}, 0.15), ({11, 3}, 0.2), ({4, 5}, 0.1), ({4, 6}, 0.1), ({8, 4}, 0.15), ({9, 4}, 0.1), ({11, 4}, 0.1), ({5, 7}, 0.1), ({8, 5}, 0.05), ({9, 5}, 0.2), ({11, 5}, 0.05), ({8, 6}, 0.2), ({9, 6}, 0.05), ({10, 6}, 0.05), ({11, 6}, 0.05), ({9, 7}, 0.05), ({11, 7}, 0.05), ({8, 9}, 0.1), ({8, 11}, 0.1), ({9, 10}, 0.1), ({9, 11}, 0.05)]\n",
            "[({1, 3, 4}, 0.05), ({1, 3, 6}, 0.1), ({1, 10, 3}, 0.05), ({8, 1, 6}, 0.05), ({1, 10, 6}, 0.05), ({2, 3, 6}, 0.05), ({2, 4, 6}, 0.1), ({8, 2, 4}, 0.1), ({8, 2, 6}, 0.1), ({3, 4, 5}, 0.05), ({8, 3, 4}, 0.05), ({9, 3, 4}, 0.05), ({11, 3, 4}, 0.1), ({3, 5, 7}, 0.1), ({9, 3, 5}, 0.1), ({11, 3, 5}, 0.05), ({9, 3, 7}, 0.05), ({11, 3, 7}, 0.05), ({8, 11, 3}, 0.05), ({9, 10, 3}, 0.1), ({9, 4, 5}, 0.1), ({8, 4, 6}, 0.1), ({8, 11, 4}, 0.05), ({9, 5, 7}, 0.05), ({11, 5, 7}, 0.05), ({8, 9, 5}, 0.05), ({8, 9, 6}, 0.05), ({8, 11, 6}, 0.05), ({9, 11, 6}, 0.05), ({8, 9, 11}, 0.05)]\n",
            "[({2, 4, 6, 8}, 0.1), ({3, 4, 5, 9}, 0.05), ({3, 4, 8, 11}, 0.05), ({3, 5, 7, 9}, 0.05), ({3, 5, 7, 11}, 0.05), ({6, 8, 9, 11}, 0.05)]\n"
          ]
        }
      ]
    },
    {
      "cell_type": "code",
      "source": [
        "# Creating a dictionary that maps items to their support values.\n",
        "item_support_dict = dict()\n",
        "item_list = list() # to store the name of items corresponding to item _dict values retrieved from frequent_item_sets_per_level\n",
        "\n",
        "# Keys and values are retrieved from the item_dict and stored in separate variables\n",
        "key_list = list(item_dict.keys())\n",
        "val_list = list(item_dict.values())\n",
        "\n",
        "# For each level in frequent_item_Sets_per_level, for each item-support pair, name of the item retrieved from the key_list\n",
        "# that corresponds to the number in set_support_pair, and names are added to the item_list.\n",
        "for level in frequent_item_sets_per_level:\n",
        "  for set_support_pair in frequent_item_sets_per_level[level]:\n",
        "    for i in set_support_pair[0]:\n",
        "      item_list.append(key_list[val_list.index(i)])\n",
        "    # Items names and their support values are mapped in the item_support_dict as a froze -float number pair.\n",
        "    item_support_dict[frozenset(item_list)] = set_support_pair[1]\n",
        "    item_list = list()"
      ],
      "metadata": {
        "id": "gcHWqcr1yeTX"
      },
      "execution_count": 25,
      "outputs": []
    },
    {
      "cell_type": "code",
      "source": [
        "item_support_dict"
      ],
      "metadata": {
        "colab": {
          "base_uri": "https://localhost:8080/"
        },
        "id": "npvaM-GG0D0u",
        "outputId": "d439db99-e5b6-4f6a-cb5d-9719bee7d772"
      },
      "execution_count": 26,
      "outputs": [
        {
          "output_type": "execute_result",
          "data": {
            "text/plain": [
              "{frozenset({'SUGER'}): 0.3,\n",
              " frozenset({'COCK'}): 0.15,\n",
              " frozenset({'BREAD'}): 0.65,\n",
              " frozenset({'BISCUIT'}): 0.35,\n",
              " frozenset({'MAGGI'}): 0.25,\n",
              " frozenset({'COFFEE'}): 0.4,\n",
              " frozenset({'JAM'}): 0.1,\n",
              " frozenset({'CORNFLAKES'}): 0.3,\n",
              " frozenset({'TEA'}): 0.35,\n",
              " frozenset({'BOURNVITA'}): 0.2,\n",
              " frozenset({'MILK'}): 0.25,\n",
              " frozenset({'BREAD', 'SUGER'}): 0.2,\n",
              " frozenset({'BISCUIT', 'SUGER'}): 0.05,\n",
              " frozenset({'COFFEE', 'SUGER'}): 0.2,\n",
              " frozenset({'CORNFLAKES', 'SUGER'}): 0.05,\n",
              " frozenset({'BOURNVITA', 'SUGER'}): 0.1,\n",
              " frozenset({'BREAD', 'COCK'}): 0.05,\n",
              " frozenset({'BISCUIT', 'COCK'}): 0.1,\n",
              " frozenset({'COCK', 'COFFEE'}): 0.15,\n",
              " frozenset({'COCK', 'CORNFLAKES'}): 0.1,\n",
              " frozenset({'BISCUIT', 'BREAD'}): 0.2,\n",
              " frozenset({'BREAD', 'MAGGI'}): 0.15,\n",
              " frozenset({'BREAD', 'COFFEE'}): 0.15,\n",
              " frozenset({'BREAD', 'JAM'}): 0.1,\n",
              " frozenset({'BREAD', 'CORNFLAKES'}): 0.05,\n",
              " frozenset({'BREAD', 'TEA'}): 0.2,\n",
              " frozenset({'BOURNVITA', 'BREAD'}): 0.15,\n",
              " frozenset({'BREAD', 'MILK'}): 0.2,\n",
              " frozenset({'BISCUIT', 'MAGGI'}): 0.1,\n",
              " frozenset({'BISCUIT', 'COFFEE'}): 0.1,\n",
              " frozenset({'BISCUIT', 'CORNFLAKES'}): 0.15,\n",
              " frozenset({'BISCUIT', 'TEA'}): 0.1,\n",
              " frozenset({'BISCUIT', 'MILK'}): 0.1,\n",
              " frozenset({'JAM', 'MAGGI'}): 0.1,\n",
              " frozenset({'CORNFLAKES', 'MAGGI'}): 0.05,\n",
              " frozenset({'MAGGI', 'TEA'}): 0.2,\n",
              " frozenset({'MAGGI', 'MILK'}): 0.05,\n",
              " frozenset({'COFFEE', 'CORNFLAKES'}): 0.2,\n",
              " frozenset({'COFFEE', 'TEA'}): 0.05,\n",
              " frozenset({'BOURNVITA', 'COFFEE'}): 0.05,\n",
              " frozenset({'COFFEE', 'MILK'}): 0.05,\n",
              " frozenset({'JAM', 'TEA'}): 0.05,\n",
              " frozenset({'JAM', 'MILK'}): 0.05,\n",
              " frozenset({'CORNFLAKES', 'TEA'}): 0.1,\n",
              " frozenset({'CORNFLAKES', 'MILK'}): 0.1,\n",
              " frozenset({'BOURNVITA', 'TEA'}): 0.1,\n",
              " frozenset({'MILK', 'TEA'}): 0.05,\n",
              " frozenset({'BISCUIT', 'BREAD', 'SUGER'}): 0.05,\n",
              " frozenset({'BREAD', 'COFFEE', 'SUGER'}): 0.1,\n",
              " frozenset({'BOURNVITA', 'BREAD', 'SUGER'}): 0.05,\n",
              " frozenset({'COFFEE', 'CORNFLAKES', 'SUGER'}): 0.05,\n",
              " frozenset({'BOURNVITA', 'COFFEE', 'SUGER'}): 0.05,\n",
              " frozenset({'BREAD', 'COCK', 'COFFEE'}): 0.05,\n",
              " frozenset({'BISCUIT', 'COCK', 'COFFEE'}): 0.1,\n",
              " frozenset({'BISCUIT', 'COCK', 'CORNFLAKES'}): 0.1,\n",
              " frozenset({'COCK', 'COFFEE', 'CORNFLAKES'}): 0.1,\n",
              " frozenset({'BISCUIT', 'BREAD', 'MAGGI'}): 0.05,\n",
              " frozenset({'BISCUIT', 'BREAD', 'CORNFLAKES'}): 0.05,\n",
              " frozenset({'BISCUIT', 'BREAD', 'TEA'}): 0.05,\n",
              " frozenset({'BISCUIT', 'BREAD', 'MILK'}): 0.1,\n",
              " frozenset({'BREAD', 'JAM', 'MAGGI'}): 0.1,\n",
              " frozenset({'BREAD', 'MAGGI', 'TEA'}): 0.1,\n",
              " frozenset({'BREAD', 'MAGGI', 'MILK'}): 0.05,\n",
              " frozenset({'BREAD', 'JAM', 'TEA'}): 0.05,\n",
              " frozenset({'BREAD', 'JAM', 'MILK'}): 0.05,\n",
              " frozenset({'BREAD', 'CORNFLAKES', 'MILK'}): 0.05,\n",
              " frozenset({'BOURNVITA', 'BREAD', 'TEA'}): 0.1,\n",
              " frozenset({'BISCUIT', 'MAGGI', 'TEA'}): 0.1,\n",
              " frozenset({'BISCUIT', 'COFFEE', 'CORNFLAKES'}): 0.1,\n",
              " frozenset({'BISCUIT', 'CORNFLAKES', 'MILK'}): 0.05,\n",
              " frozenset({'JAM', 'MAGGI', 'TEA'}): 0.05,\n",
              " frozenset({'JAM', 'MAGGI', 'MILK'}): 0.05,\n",
              " frozenset({'CORNFLAKES', 'MAGGI', 'TEA'}): 0.05,\n",
              " frozenset({'COFFEE', 'CORNFLAKES', 'TEA'}): 0.05,\n",
              " frozenset({'COFFEE', 'CORNFLAKES', 'MILK'}): 0.05,\n",
              " frozenset({'COFFEE', 'MILK', 'TEA'}): 0.05,\n",
              " frozenset({'CORNFLAKES', 'MILK', 'TEA'}): 0.05,\n",
              " frozenset({'BISCUIT', 'COCK', 'COFFEE', 'CORNFLAKES'}): 0.1,\n",
              " frozenset({'BISCUIT', 'BREAD', 'MAGGI', 'TEA'}): 0.05,\n",
              " frozenset({'BISCUIT', 'BREAD', 'CORNFLAKES', 'MILK'}): 0.05,\n",
              " frozenset({'BREAD', 'JAM', 'MAGGI', 'TEA'}): 0.05,\n",
              " frozenset({'BREAD', 'JAM', 'MAGGI', 'MILK'}): 0.05,\n",
              " frozenset({'COFFEE', 'CORNFLAKES', 'MILK', 'TEA'}): 0.05}"
            ]
          },
          "metadata": {},
          "execution_count": 26
        }
      ]
    },
    {
      "cell_type": "markdown",
      "source": [
        "**find_possible_subsets(item, item_length)** takes each item from the item_support_dict and its length item_length as parameter, and returns all possible combinations of elements inside the items."
      ],
      "metadata": {
        "id": "KFES2eL30Iw-"
      }
    },
    {
      "cell_type": "code",
      "source": [
        "def find_possible_subsets(item, item_length):\n",
        "  # Creating empty list to store a list of combinations.\n",
        "  combs = []\n",
        "\n",
        "  # Iterating over the irems\n",
        "  for i in range(1, item_length + 1):\n",
        "    # appending a list of all possible combinations of items to the combs array.\n",
        "    combs.append(list(combinations(item, i)))\n",
        "\n",
        "  # Creating a subset array\n",
        "  subsets = []\n",
        "  for comb in combs:\n",
        "    for elt in comb:\n",
        "      subsets.append(elt)\n",
        "\n",
        "  return subsets"
      ],
      "metadata": {
        "id": "i3RRHrB50FmF"
      },
      "execution_count": 27,
      "outputs": []
    },
    {
      "cell_type": "markdown",
      "source": [
        "### Generate the Association rules"
      ],
      "metadata": {
        "id": "rHKWAU261H-I"
      }
    },
    {
      "cell_type": "code",
      "source": [
        "item = {1, 2, 3}\n",
        "b = item.difference({1, 2, 3})\n",
        "if b:\n",
        "  print(\"Do something\")\n",
        "item | b"
      ],
      "metadata": {
        "colab": {
          "base_uri": "https://localhost:8080/"
        },
        "id": "O5dnqP7Z1GC8",
        "outputId": "8e6e61d2-996e-48d2-c5ff-82f5f6e000de"
      },
      "execution_count": 28,
      "outputs": [
        {
          "output_type": "execute_result",
          "data": {
            "text/plain": [
              "{1, 2, 3}"
            ]
          },
          "metadata": {},
          "execution_count": 28
        }
      ]
    },
    {
      "cell_type": "code",
      "source": [
        "def association_rules(min_confidence, support_dict):\n",
        "    rules = list()\n",
        "    \"\"\"For itemsets of more than one element, it first finds all their subsets calling the find_subset(item, item_length)\n",
        "        For every subset A, it calculates the set B = itemset-A.\n",
        "        If B is not empty, the confidence of B is calculated.\n",
        "        If this value is more than minimum confidence value, the rule A->B is added to the list rules with the corresponding confidence value of B.\"\"\"\n",
        "    for item, support in support_dict.items():\n",
        "        item_length = len(item)\n",
        "       \n",
        "        if item_length > 1:\n",
        "            subsets = find_possible_subsets(item, item_length)\n",
        "           \n",
        "            for A in subsets:\n",
        "                B = item.difference(A)\n",
        "                if B:\n",
        "                    A = frozenset(A)\n",
        "                    \n",
        "                    AB = A | B\n",
        "                    \n",
        "                    confidence = support_dict[AB] / support_dict[A]\n",
        "                    if confidence >= min_confidence:\n",
        "                        rules.append((A, B, confidence))\n",
        "    \n",
        "    return rules"
      ],
      "metadata": {
        "id": "SgpMneti1Uev"
      },
      "execution_count": 33,
      "outputs": []
    },
    {
      "cell_type": "code",
      "source": [
        "association_rules = association_rules(min_confidence = 0.6, support_dict = item_support_dict)"
      ],
      "metadata": {
        "id": "0ZrUGv352c38"
      },
      "execution_count": 34,
      "outputs": []
    },
    {
      "cell_type": "code",
      "source": [
        "print(\"Number of rules: \", len(association_rules), \"\\n\")\n",
        "\n",
        "for rule in association_rules:\n",
        "  print('{0} -> {1} <confidence: {2}>'.format(set(rule[0]), set(rule[1]), rule[2]))"
      ],
      "metadata": {
        "colab": {
          "base_uri": "https://localhost:8080/"
        },
        "id": "jP6tw-pn3AEO",
        "outputId": "48f698e8-1c04-4159-8767-6fbf0ecd508c"
      },
      "execution_count": 35,
      "outputs": [
        {
          "output_type": "stream",
          "name": "stdout",
          "text": [
            "Number of rules:  86 \n",
            "\n",
            "{'SUGER'} -> {'BREAD'} <confidence: 0.6666666666666667>\n",
            "{'SUGER'} -> {'COFFEE'} <confidence: 0.6666666666666667>\n",
            "{'COCK'} -> {'BISCUIT'} <confidence: 0.6666666666666667>\n",
            "{'COCK'} -> {'COFFEE'} <confidence: 1.0>\n",
            "{'COCK'} -> {'CORNFLAKES'} <confidence: 0.6666666666666667>\n",
            "{'MAGGI'} -> {'BREAD'} <confidence: 0.6>\n",
            "{'JAM'} -> {'BREAD'} <confidence: 1.0>\n",
            "{'BOURNVITA'} -> {'BREAD'} <confidence: 0.7499999999999999>\n",
            "{'MILK'} -> {'BREAD'} <confidence: 0.8>\n",
            "{'JAM'} -> {'MAGGI'} <confidence: 1.0>\n",
            "{'MAGGI'} -> {'TEA'} <confidence: 0.8>\n",
            "{'CORNFLAKES'} -> {'COFFEE'} <confidence: 0.6666666666666667>\n",
            "{'SUGER', 'BISCUIT'} -> {'BREAD'} <confidence: 1.0>\n",
            "{'COFFEE', 'BREAD'} -> {'SUGER'} <confidence: 0.6666666666666667>\n",
            "{'CORNFLAKES', 'SUGER'} -> {'COFFEE'} <confidence: 1.0>\n",
            "{'COFFEE', 'BOURNVITA'} -> {'SUGER'} <confidence: 1.0>\n",
            "{'COCK', 'BREAD'} -> {'COFFEE'} <confidence: 1.0>\n",
            "{'COCK'} -> {'COFFEE', 'BISCUIT'} <confidence: 0.6666666666666667>\n",
            "{'COCK', 'COFFEE'} -> {'BISCUIT'} <confidence: 0.6666666666666667>\n",
            "{'COCK', 'BISCUIT'} -> {'COFFEE'} <confidence: 1.0>\n",
            "{'COFFEE', 'BISCUIT'} -> {'COCK'} <confidence: 1.0>\n",
            "{'COCK'} -> {'CORNFLAKES', 'BISCUIT'} <confidence: 0.6666666666666667>\n",
            "{'CORNFLAKES', 'COCK'} -> {'BISCUIT'} <confidence: 1.0>\n",
            "{'CORNFLAKES', 'BISCUIT'} -> {'COCK'} <confidence: 0.6666666666666667>\n",
            "{'COCK', 'BISCUIT'} -> {'CORNFLAKES'} <confidence: 1.0>\n",
            "{'COCK'} -> {'CORNFLAKES', 'COFFEE'} <confidence: 0.6666666666666667>\n",
            "{'CORNFLAKES', 'COCK'} -> {'COFFEE'} <confidence: 1.0>\n",
            "{'COCK', 'COFFEE'} -> {'CORNFLAKES'} <confidence: 0.6666666666666667>\n",
            "{'CORNFLAKES', 'BREAD'} -> {'BISCUIT'} <confidence: 1.0>\n",
            "{'BISCUIT', 'MILK'} -> {'BREAD'} <confidence: 1.0>\n",
            "{'JAM'} -> {'BREAD', 'MAGGI'} <confidence: 1.0>\n",
            "{'BREAD', 'JAM'} -> {'MAGGI'} <confidence: 1.0>\n",
            "{'BREAD', 'MAGGI'} -> {'JAM'} <confidence: 0.6666666666666667>\n",
            "{'JAM', 'MAGGI'} -> {'BREAD'} <confidence: 1.0>\n",
            "{'BREAD', 'MAGGI'} -> {'TEA'} <confidence: 0.6666666666666667>\n",
            "{'MAGGI', 'MILK'} -> {'BREAD'} <confidence: 1.0>\n",
            "{'TEA', 'JAM'} -> {'BREAD'} <confidence: 1.0>\n",
            "{'JAM', 'MILK'} -> {'BREAD'} <confidence: 1.0>\n",
            "{'CORNFLAKES', 'BREAD'} -> {'MILK'} <confidence: 1.0>\n",
            "{'TEA', 'BOURNVITA'} -> {'BREAD'} <confidence: 1.0>\n",
            "{'BREAD', 'BOURNVITA'} -> {'TEA'} <confidence: 0.6666666666666667>\n",
            "{'TEA', 'BISCUIT'} -> {'MAGGI'} <confidence: 1.0>\n",
            "{'BISCUIT', 'MAGGI'} -> {'TEA'} <confidence: 1.0>\n",
            "{'CORNFLAKES', 'BISCUIT'} -> {'COFFEE'} <confidence: 0.6666666666666667>\n",
            "{'COFFEE', 'BISCUIT'} -> {'CORNFLAKES'} <confidence: 1.0>\n",
            "{'TEA', 'JAM'} -> {'MAGGI'} <confidence: 1.0>\n",
            "{'JAM', 'MILK'} -> {'MAGGI'} <confidence: 1.0>\n",
            "{'MAGGI', 'MILK'} -> {'JAM'} <confidence: 1.0>\n",
            "{'CORNFLAKES', 'MAGGI'} -> {'TEA'} <confidence: 1.0>\n",
            "{'TEA', 'COFFEE'} -> {'CORNFLAKES'} <confidence: 1.0>\n",
            "{'COFFEE', 'MILK'} -> {'CORNFLAKES'} <confidence: 1.0>\n",
            "{'TEA', 'COFFEE'} -> {'MILK'} <confidence: 1.0>\n",
            "{'TEA', 'MILK'} -> {'COFFEE'} <confidence: 1.0>\n",
            "{'COFFEE', 'MILK'} -> {'TEA'} <confidence: 1.0>\n",
            "{'TEA', 'MILK'} -> {'CORNFLAKES'} <confidence: 1.0>\n",
            "{'COCK'} -> {'CORNFLAKES', 'COFFEE', 'BISCUIT'} <confidence: 0.6666666666666667>\n",
            "{'COCK', 'COFFEE'} -> {'CORNFLAKES', 'BISCUIT'} <confidence: 0.6666666666666667>\n",
            "{'COCK', 'CORNFLAKES'} -> {'COFFEE', 'BISCUIT'} <confidence: 1.0>\n",
            "{'COCK', 'BISCUIT'} -> {'CORNFLAKES', 'COFFEE'} <confidence: 1.0>\n",
            "{'COFFEE', 'BISCUIT'} -> {'COCK', 'CORNFLAKES'} <confidence: 1.0>\n",
            "{'CORNFLAKES', 'BISCUIT'} -> {'COCK', 'COFFEE'} <confidence: 0.6666666666666667>\n",
            "{'COCK', 'COFFEE', 'CORNFLAKES'} -> {'BISCUIT'} <confidence: 1.0>\n",
            "{'COCK', 'COFFEE', 'BISCUIT'} -> {'CORNFLAKES'} <confidence: 1.0>\n",
            "{'COCK', 'CORNFLAKES', 'BISCUIT'} -> {'COFFEE'} <confidence: 1.0>\n",
            "{'CORNFLAKES', 'COFFEE', 'BISCUIT'} -> {'COCK'} <confidence: 1.0>\n",
            "{'TEA', 'BREAD', 'BISCUIT'} -> {'MAGGI'} <confidence: 1.0>\n",
            "{'BREAD', 'BISCUIT', 'MAGGI'} -> {'TEA'} <confidence: 1.0>\n",
            "{'CORNFLAKES', 'BREAD'} -> {'BISCUIT', 'MILK'} <confidence: 1.0>\n",
            "{'CORNFLAKES', 'BREAD', 'BISCUIT'} -> {'MILK'} <confidence: 1.0>\n",
            "{'CORNFLAKES', 'BREAD', 'MILK'} -> {'BISCUIT'} <confidence: 1.0>\n",
            "{'CORNFLAKES', 'BISCUIT', 'MILK'} -> {'BREAD'} <confidence: 1.0>\n",
            "{'TEA', 'JAM'} -> {'BREAD', 'MAGGI'} <confidence: 1.0>\n",
            "{'TEA', 'BREAD', 'JAM'} -> {'MAGGI'} <confidence: 1.0>\n",
            "{'TEA', 'JAM', 'MAGGI'} -> {'BREAD'} <confidence: 1.0>\n",
            "{'JAM', 'MILK'} -> {'BREAD', 'MAGGI'} <confidence: 1.0>\n",
            "{'MAGGI', 'MILK'} -> {'BREAD', 'JAM'} <confidence: 1.0>\n",
            "{'BREAD', 'JAM', 'MILK'} -> {'MAGGI'} <confidence: 1.0>\n",
            "{'BREAD', 'MAGGI', 'MILK'} -> {'JAM'} <confidence: 1.0>\n",
            "{'JAM', 'MAGGI', 'MILK'} -> {'BREAD'} <confidence: 1.0>\n",
            "{'TEA', 'COFFEE'} -> {'CORNFLAKES', 'MILK'} <confidence: 1.0>\n",
            "{'COFFEE', 'MILK'} -> {'CORNFLAKES', 'TEA'} <confidence: 1.0>\n",
            "{'TEA', 'MILK'} -> {'CORNFLAKES', 'COFFEE'} <confidence: 1.0>\n",
            "{'CORNFLAKES', 'COFFEE', 'TEA'} -> {'MILK'} <confidence: 1.0>\n",
            "{'CORNFLAKES', 'COFFEE', 'MILK'} -> {'TEA'} <confidence: 1.0>\n",
            "{'CORNFLAKES', 'TEA', 'MILK'} -> {'COFFEE'} <confidence: 1.0>\n",
            "{'TEA', 'COFFEE', 'MILK'} -> {'CORNFLAKES'} <confidence: 1.0>\n"
          ]
        }
      ]
    },
    {
      "cell_type": "code",
      "source": [
        ""
      ],
      "metadata": {
        "id": "_k-Bxgot3c88"
      },
      "execution_count": null,
      "outputs": []
    }
  ]
}