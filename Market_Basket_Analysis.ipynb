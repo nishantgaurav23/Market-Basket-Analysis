{
  "nbformat": 4,
  "nbformat_minor": 0,
  "metadata": {
    "colab": {
      "name": "Market_Basket_Analysis.ipynb",
      "private_outputs": true,
      "provenance": [],
      "authorship_tag": "ABX9TyN0xcMIy1JpeS67SjmGPjB9",
      "include_colab_link": true
    },
    "kernelspec": {
      "name": "python3",
      "display_name": "Python 3"
    },
    "language_info": {
      "name": "python"
    }
  },
  "cells": [
    {
      "cell_type": "markdown",
      "metadata": {
        "id": "view-in-github",
        "colab_type": "text"
      },
      "source": [
        "<a href=\"https://colab.research.google.com/github/nishantgaurav23/Market-Basket-Analysis/blob/main/Market_Basket_Analysis.ipynb\" target=\"_parent\"><img src=\"https://colab.research.google.com/assets/colab-badge.svg\" alt=\"Open In Colab\"/></a>"
      ]
    },
    {
      "cell_type": "markdown",
      "source": [
        "### Objective\n",
        "* identify segments based on the overall buying behaviour\n",
        "* identify the association rules for the items purchased\n",
        "* implement the apriori algorithm from scratch"
      ],
      "metadata": {
        "id": "1JAe-fAwOBfT"
      }
    },
    {
      "cell_type": "markdown",
      "source": [
        "### Dataset\n",
        "\n",
        "The dataset chosen for this assignment is 'Grocery Store Dataset'. This dataset contains transcations of general items from a supermarket. For example one transcation looks like `BREAD, MILK, BISCUIT, CORNFLAKES`"
      ],
      "metadata": {
        "id": "OytpzNfgOZQR"
      }
    },
    {
      "cell_type": "markdown",
      "source": [
        "### Information\n",
        "\n",
        "The Apriori algorithm is an influential algorithm for searching a series of frequent sets of items in the dataset or database.It is mainly used for Association Rule mining. So, what exactly is Association Rule Mining?\n",
        "\n",
        "Alex goes to buy a chips from bakery.He grabs a Pepsi as well. The shop manager analyses that, not only Alex but people in general, often tend to buy chips and Pepsi together.After finding out the pattern, the shop manager arrange these items together and notices an increase in sales. This process of identifying the relationship between association rule mining.\n",
        "\n",
        "The kep concept in the Apriori alogorithm is that it assumes\n",
        "  * All subsets of a frequenct items must be frequent.\n",
        "  * If an itemset is infrequent, all its supersets will be infrequent.\n",
        "\n",
        "**Important Definitions**\n",
        "\n",
        "**Itemset:** A set of items is referred to as itemset and an itemset containing n items is called n-itemset\n",
        "\n",
        "**SupportCount:** Number of transactions in which the itemset appears.\n",
        "\n",
        "**MinimumSupportCount:** the minimum frequency of itemset in the dataset or database.\n",
        "\n",
        "**Frequent Itemset:** If an itemset satisfies minimum support, then it is a frequent itemset.\n",
        "\n",
        "**Support:** An indication of how frequently the itemset appears in the dataset.."
      ],
      "metadata": {
        "id": "nfdSBpKPOzt6"
      }
    },
    {
      "cell_type": "markdown",
      "source": [
        "![Overview](https://cdn.iisc.talentsprint.com/CDS/Apriori_Overview.JPG)"
      ],
      "metadata": {
        "id": "hmRo_rimQvXE"
      }
    },
    {
      "cell_type": "markdown",
      "source": [
        "We will be using below helper functions to implement apriori algorithm:\n",
        "\n",
        "* **get_support(transcations, item_sets):** This function calculates the support value for the given item_Set from the provided list of transcations\n",
        "\n",
        "* **self_join(frequent_item_Sets_per_level, level):** Thus function performs self join in the given list of frequent itemsets of previous level, and generates the candidate itemsets for the current level.\n",
        "\n",
        "* **get_single_drop_subsets(item_set):** This function returns the subsets of the given item_set with one item less.\n",
        "\n",
        "* **is_valid_set(item_set, prev_level_sets):** This checks if the given item_set is valid, i.e., has all its subsets with support value greater than the minimum support value. It relies on the fact that prev_level_sets contains only those item_sets which are frequent, i.e., have support value greater than the minimum support value.\n",
        "\n",
        "* **pruning(frequent_item_sets_per_level, level, candidate_set):** This function performs the pruning step of the Apriori Algorithm. It takes a list candidate_set of all the candidate itemsets for the current level, and for each candidate itemset checks if all its subsets are frequent itemsets. If not, it prunes it, If yes, it adds it to the list of post_pruning_set.\n",
        "\n",
        "* **apriori(min_support):** This is the main function which uses all the above described Utility functions to implement the Apriori Algorithm and generate the list of frequent itemsets for each level for the provided transactions and min_support value.\n",
        "\n",
        "* **association_rules(min_confidence, support_dict):** This function generates the association rules in accordance with the given minimum confidence value and the provided dictionary of itemsets against their support values. It takes min_confidence and support_dict as a parameter, and returns rules as a list."
      ],
      "metadata": {
        "id": "tCMQpZSRQzNC"
      }
    },
    {
      "cell_type": "code",
      "execution_count": null,
      "metadata": {
        "id": "rPaYi9XQN9hP"
      },
      "outputs": [],
      "source": [
        " !wget \"https://cdn.iisc.talentsprint.com/CDS/Datasets/GroceryStoreDataSet.csv\""
      ]
    },
    {
      "cell_type": "markdown",
      "source": [
        "### Import required packages"
      ],
      "metadata": {
        "id": "fDV7NaHl90Ig"
      }
    },
    {
      "cell_type": "code",
      "source": [
        "import pandas as pd\n",
        "import numpy as np\n",
        "from collections import defaultdict\n",
        "from itertools import combinations"
      ],
      "metadata": {
        "id": "wxjo8TOIR-wK"
      },
      "execution_count": null,
      "outputs": []
    },
    {
      "cell_type": "markdown",
      "source": [
        "\n",
        "To know about collection package click [here](https://docs.python.org/3/library/collections.html)\n",
        "\n",
        "To know about itertools package click [here](https://docs.python.org/3/library/itertools.html)"
      ],
      "metadata": {
        "id": "Zs3W5-e6-Ggs"
      }
    },
    {
      "cell_type": "code",
      "source": [
        "store_data = pd.read_csv('/content/GroceryStoreDataSet.csv', names=['Items'])\n",
        "store_data.head()"
      ],
      "metadata": {
        "id": "EhZE89Tf-IL0"
      },
      "execution_count": null,
      "outputs": []
    },
    {
      "cell_type": "markdown",
      "source": [
        "A common strategy adopted by many associations rule mining algorithms is to decompose the problem into two major subtasks:\n",
        "\n",
        "* Frequent Itemset Generation, whose objective is to find all the itemsets that satisfy the minimum support threshold. These itemsets are called frequent itemsets.\n",
        "* Rule Generation, whose objective is to extract all the high-confidence rules from the frequent itemsets found in the previous step."
      ],
      "metadata": {
        "id": "2q-ykyn2-j6a"
      }
    },
    {
      "cell_type": "markdown",
      "source": [
        "### Frequent Itemset Generation\n",
        "\n",
        "Create the basket with transcations\n",
        "\n",
        "To know more about lambda function click [here](https://realpython.com/python-lambda/)"
      ],
      "metadata": {
        "id": "qMcq5L49_ML5"
      }
    },
    {
      "cell_type": "code",
      "source": [
        "# Creating the list of items for each order by  splitting with ','\n",
        "store_data['Items'] = store_data['Items'].apply(lambda x: x.split(','))\n",
        "store_data"
      ],
      "metadata": {
        "id": "gjZO6_0v-gcg"
      },
      "execution_count": null,
      "outputs": []
    },
    {
      "cell_type": "code",
      "source": [
        "# Finding the unique items for all the orders\n",
        "\n",
        "unique_items = [] # defining a empty list\n",
        "\n",
        "#Iterating over the records in the dataset\n",
        "for i in store_data['Items']:\n",
        "  unique_items.extend(i) # extending the \n",
        "\n",
        "# extracting the unique items from the list by converting the list into the set\n",
        "unique_items = set(unique_items)\n",
        "unique_items"
      ],
      "metadata": {
        "id": "D-pVGMJP_qhk"
      },
      "execution_count": null,
      "outputs": []
    },
    {
      "cell_type": "markdown",
      "source": [
        "To know about extend click [here](https://www.techbeamers.com/python-list-extend/)"
      ],
      "metadata": {
        "id": "YG-pSLI8AYUB"
      }
    },
    {
      "cell_type": "code",
      "source": [
        "# Initializing an empty dictionary\n",
        "collections = dict()\n",
        "\n",
        "# Iterating over the unique items and indexing  in each item\n",
        "for item in unique_items:\n",
        "  #Creating a dictionary where item is the key and occurence of the item in the record is the value\n",
        "  collections[item] = [1 if item in row else 0 for row in store_data['Items']]\n",
        "orders = pd.DataFrame(collections)\n",
        "orders"
      ],
      "metadata": {
        "id": "cc6GFQnmAOfc"
      },
      "execution_count": null,
      "outputs": []
    },
    {
      "cell_type": "markdown",
      "source": [
        "#### Giving an index to each item to represent it with number in each transcations"
      ],
      "metadata": {
        "id": "S_nSJZdGBSA_"
      }
    },
    {
      "cell_type": "code",
      "source": [
        "item_dict = dict(zip(unique_items, range(1, len(unique_items))))\n",
        "item_dict"
      ],
      "metadata": {
        "id": "IjHhTbbKBC4z"
      },
      "execution_count": null,
      "outputs": []
    },
    {
      "cell_type": "code",
      "source": [
        "item_list = list(orders.columns)\n",
        "item_dict = dict()\n",
        "\n",
        "#Iterating the item list\n",
        "for i, item in enumerate(item_list):\n",
        "  #Assigining the index to item name to represent with a number\n",
        "  item_dict[item] = i+1\n",
        "\n",
        "item_dict\n"
      ],
      "metadata": {
        "id": "83ShHvm1BiOV"
      },
      "execution_count": null,
      "outputs": []
    },
    {
      "cell_type": "markdown",
      "source": [
        "#### Identifying the patter of the items purchased in each order"
      ],
      "metadata": {
        "id": "MHD9oomFCHnd"
      }
    },
    {
      "cell_type": "code",
      "source": [
        "transactions = list()\n",
        "for i, row in orders.iterrows():\n",
        "  transaction = set()\n",
        "\n",
        "  for item in item_dict:\n",
        "    if row[item] != 0:\n",
        "      transaction.add(item_dict[item])\n",
        "  transactions.append(transaction)\n",
        "\n",
        "transactions"
      ],
      "metadata": {
        "id": "-ND_UrLlCBIF"
      },
      "execution_count": null,
      "outputs": []
    },
    {
      "cell_type": "markdown",
      "source": [
        "### Helper functions\n",
        "\n",
        "Let's create a function that return the support value for the given item_set from the provided list of transcations."
      ],
      "metadata": {
        "id": "y-F_JhSPCxX7"
      }
    },
    {
      "cell_type": "code",
      "source": [
        "def get_support(transactions, item_set):\n",
        "  match_count = 0 # initializing a varibale to store the number of transactions where the given item_set is found.\n",
        "\n",
        "  # Iterating through the list of transactions\n",
        "  for transaction in transactions:\n",
        "    if item_set.issubset(transaction):\n",
        "      match_count += 1 # incrementing the count when above considition is met\n",
        "  # support value calculated by divinding the match_count by total number of transactions is returned\n",
        "  return float(match_count/len(transactions))\n"
      ],
      "metadata": {
        "id": "u6tuOnz1Cnaj"
      },
      "execution_count": null,
      "outputs": []
    },
    {
      "cell_type": "markdown",
      "source": [
        "Let us create another helper function which performs self join in the given list of frequent itemset of previous level and generates the candidate itemsetss for the current level."
      ],
      "metadata": {
        "id": "Rnvb3-PyEA8C"
      }
    },
    {
      "cell_type": "code",
      "source": [
        "#this function takes 2 arguments as input. the 1st argument is map of level tp the list of itemsets found\n",
        "# to be frequent for that level, 2nd argument if the current level number.\n",
        "\n",
        "def self_join(frequent_item_sets_per_level, level):\n",
        "  # intializing an empty list to store the current level candidates\n",
        "  current_level_candidates = list()\n",
        "  # Storing the list of frequent itemsets from the previous level\n",
        "  last_level_items = frequent_item_sets_per_level[level - 1]\n",
        "\n",
        "  # If there are no frequent itemsets from the previous level, it returns and empty list for current_level_candidates.\n",
        "  # Otherwise, it iterates through each itemset in last_level_items starting from 0 for index i\n",
        "  # and for each itemset in last_level_items starting from 1 fro index j\n",
        "  if len(last_level_items) == 0:\n",
        "    return current_level_candidates\n",
        "\n",
        "  for i in range(len(last_level_items)):\n",
        "    for j in range(i+1, len(last_level_items)):\n",
        "      itemset_i = last_level_items[i][0]\n",
        "      itemset_j = last_level_items[j][0]\n",
        "      #union of itemset at indices i and j\n",
        "      union_set = itemset_i.union(itemset_j)\n",
        "\n",
        "      # If this union_set is not already present in current level_candidate and the \n",
        "      # number of elements in the union_set is equal to the level_number, \n",
        "      # then this union_set is appended into current_level_candidates.\n",
        "      if union_set not in current_level_candidates and len(union_set) == level:\n",
        "        current_level_candidates.append(union_set)\n",
        "\n",
        "  return current_level_candidates"
      ],
      "metadata": {
        "id": "MXUDlem0D_l7"
      },
      "execution_count": null,
      "outputs": []
    },
    {
      "cell_type": "markdown",
      "source": [
        "We have to check for the number of elements in union_set to ensure that the current_level_candidates contain only the sets of fixed length. This is a requirement for Apriori Algorithm\n",
        "\n",
        "Let's create another that returns the subsets of the given items with one item less."
      ],
      "metadata": {
        "id": "4dln2fQNJgin"
      }
    },
    {
      "cell_type": "code",
      "source": [
        "def get_single_drop_subsets(item_set):\n",
        "  # ininitalizing an empty list\n",
        "  single_drop_subsets = list()\n",
        "\n",
        "  #Iterating over each item in the item set\n",
        "  for item in item_set:\n",
        "    # ceating a temporary copy of the item_set (a subset of length one less than the length of the item_set)\n",
        "    temp = item_set.copy()\n",
        "    # removing this item from the temporary item set (a subset of length one less than the length of the item_set)\n",
        "    temp.remove(item)\n",
        "    # append this temporary set to the single_drop_subsets\n",
        "    single_drop_subsets.append(temp)\n",
        "\n",
        "  return single_drop_subsets"
      ],
      "metadata": {
        "id": "tKrRI0kqGlyY"
      },
      "execution_count": null,
      "outputs": []
    },
    {
      "cell_type": "markdown",
      "source": [
        "**is_valid_set()** checks if the given item_set is valid, i.e., has all its subsets with support value greater than the minimum support value. It relies on the fact that prev_level_sets contains only those item_sets which are frequent, i.e.. have support value greater than the minimum support value.\n",
        "\n",
        "Now let's create another function that checks if the given item_set is valid, i.e,. has all its subsets with support value greater than the minimum support value. It relies on the fact that pre_level_sets contains only those item_sets which are frequent, i.e., have support value greater than the minimum support value."
      ],
      "metadata": {
        "id": "h-yhfVqLhAMV"
      }
    },
    {
      "cell_type": "code",
      "source": [
        "def is_valid_set(item_set, prev_level_sets):\n",
        "  #generating all the subsets of the given item_set with length one less than the length of the original item_set.\n",
        "  # This is done using the above described function get_single_Drop_subsets()\n",
        "  single_drop_subsets = get_single_drop_subsets(item_set)\n",
        "\n",
        "  # iterating through the single_drop_subsets list.\n",
        "  for single_drop_set in single_drop_subsets:\n",
        "    # checks if it was present in the prev_level_sets. If it wasn't it means the given\n",
        "    # item_set is a superset of a non-frequent item_set. Thus, it returns False\n",
        "    # if all the single_drop_subsetsare frequent itemsets, and are present in the prev_level_sets, it returns True\n",
        "    if single_drop_set not in prev_level_sets:\n",
        "      return False\n",
        "  return True"
      ],
      "metadata": {
        "id": "vCylIZVpg-9_"
      },
      "execution_count": null,
      "outputs": []
    },
    {
      "cell_type": "markdown",
      "source": [
        "Now let's perform the pruning step of the Apriori Algorithm. It takes a list candidate itemset checks if all its subsets are frequent itemsets. If not, it prunes it, If yes, it adds it to the list of post_pruning_set."
      ],
      "metadata": {
        "id": "xvXUdLGcjTGH"
      }
    },
    {
      "cell_type": "code",
      "source": [
        "def pruning(frequent_item_sets_per_level, level, candidate_set):\n",
        "  # Initializing empty list to store the list of frequent itemsets for the current level\n",
        "  # after performing pruning operation on the given list of candidate sets.\n",
        "  post_pruning_set = list()\n",
        "  # If there are no candidate_set, it returns an empty list.\n",
        "  # Otherwise, it first creates a list of frequent itemsets from the previous level and stores it in prev_level_sets.\n",
        "  if len(candidate_set) == 0:\n",
        "    return post_pruning_set\n",
        "\n",
        "  prev_level_sets = list()\n",
        "  for item_set, _ in frequent_item_sets_per_level[level - 1]:\n",
        "    prev_level_sets.append(item_set)\n",
        "\n",
        "  # Iterating over each item_set in candidate_set list\n",
        "  for item_set in candidate_set:\n",
        "    # Checking whether it is valid itemset or not\n",
        "    if is_valid_set(item_set, prev_level_sets):\n",
        "      #If this item_set is valid, it is appeneded to the list of post_pruning_set.\n",
        "      post_pruning_set.append(item_set)\n",
        "\n",
        "  return post_pruning_set"
      ],
      "metadata": {
        "id": "hjgYuK4ejQUb"
      },
      "execution_count": null,
      "outputs": []
    },
    {
      "cell_type": "markdown",
      "source": [
        "### Apriori algorithm\n",
        "\n",
        "Now let us use all the above defined helper functions to implement the Apriori Algorithm and generate the list of frequent itemsets for each level for the provided transcations and min_support value"
      ],
      "metadata": {
        "id": "Nc4PkxYWlVGx"
      }
    },
    {
      "cell_type": "code",
      "source": [
        "def apriori(min_support):\n",
        "  # creating a default empty dictionary which maps level numbers to the list of frequent itemsets for that level\n",
        "  frequent_item_sets_per_level = defaultdict(list)\n",
        "  print(\"level : 1\", end= \" \")\n",
        "\n",
        "  # iterating through the list of all items item_list\n",
        "  for item in range(1, len(item_list) + 1):\n",
        "    # Calculate the support value of each item using the helper function get_support().\n",
        "    # If this support value is greater than or equal to the provided min_support value,\n",
        "    # this item_set is added to the list of frequent itemsets for this level.\n",
        "    support = get_support(transactions, {item})\n",
        "    if support >= min_support:\n",
        "      # every itemset is stored as a pair of 2 values: item, support\n",
        "      frequent_item_sets_per_level[1].append(({item}, support))\n",
        "\n",
        "  # For each level greater than 1, generate the current_level_candidates_itemsets\n",
        "  # by performing self_join() on the frequent itemsets of the prvious level.\n",
        "  for level in range(2, len(item_list) + 1):\n",
        "    print(level, end = \" \")\n",
        "    current_level_candidates = self_join(frequent_item_sets_per_level, level)\n",
        "\n",
        "    # perform the pruning operation on these current_level_candidates using the pruning() \n",
        "    # helper function defined above, and obtain the results in post_pruning_candidates\n",
        "    post_pruning_candidates = pruning(frequent_item_sets_per_level, level, current_level_candidates)\n",
        "    # if there is no itemset left after pruning , we break the loop.\n",
        "    # It means there is no point in processing for further levels.\n",
        "    # Otherwise, for each item_set in post_pruning_candidates,\n",
        "    # we calculate the support value using the get_support() helper function.\n",
        "    if len(post_pruning_candidates) == 0:\n",
        "      break\n",
        "\n",
        "    for item_set in post_pruning_candidates:\n",
        "      support = get_support(transactions, item_set)\n",
        "      # If this support value is greater than or equal to the given min_support,\n",
        "      # we append this item_set into the list of frequent itemsets for this level.\n",
        "      if support >= min_support:\n",
        "        frequent_item_sets_per_level[level].append((item_set, support))\n",
        "\n",
        "  return frequent_item_sets_per_level\n"
      ],
      "metadata": {
        "id": "lcTCy4JmlNWq"
      },
      "execution_count": null,
      "outputs": []
    },
    {
      "cell_type": "code",
      "source": [
        "# defining the minimum support value as 0.005\n",
        "min_support = 0.005\n",
        "frequent_item_sets_per_level = apriori(min_support)"
      ],
      "metadata": {
        "id": "QkVPA5Ldx6F4"
      },
      "execution_count": null,
      "outputs": []
    },
    {
      "cell_type": "code",
      "source": [
        "for level in frequent_item_sets_per_level:\n",
        "  print(len(frequent_item_sets_per_level[level]))"
      ],
      "metadata": {
        "id": "b37JlUYXyIqd"
      },
      "execution_count": null,
      "outputs": []
    },
    {
      "cell_type": "code",
      "source": [
        "for level in frequent_item_sets_per_level:\n",
        "  print(frequent_item_sets_per_level[level])"
      ],
      "metadata": {
        "id": "Kz1OjofHyTq0"
      },
      "execution_count": null,
      "outputs": []
    },
    {
      "cell_type": "code",
      "source": [
        "# Creating a dictionary that maps items to their support values.\n",
        "item_support_dict = dict()\n",
        "item_list = list() # to store the name of items corresponding to item _dict values retrieved from frequent_item_sets_per_level\n",
        "\n",
        "# Keys and values are retrieved from the item_dict and stored in separate variables\n",
        "key_list = list(item_dict.keys())\n",
        "val_list = list(item_dict.values())\n",
        "\n",
        "# For each level in frequent_item_Sets_per_level, for each item-support pair, name of the item retrieved from the key_list\n",
        "# that corresponds to the number in set_support_pair, and names are added to the item_list.\n",
        "for level in frequent_item_sets_per_level:\n",
        "  for set_support_pair in frequent_item_sets_per_level[level]:\n",
        "    for i in set_support_pair[0]:\n",
        "      item_list.append(key_list[val_list.index(i)])\n",
        "    # Items names and their support values are mapped in the item_support_dict as a froze -float number pair.\n",
        "    item_support_dict[frozenset(item_list)] = set_support_pair[1]\n",
        "    item_list = list()"
      ],
      "metadata": {
        "id": "gcHWqcr1yeTX"
      },
      "execution_count": null,
      "outputs": []
    },
    {
      "cell_type": "code",
      "source": [
        "item_support_dict"
      ],
      "metadata": {
        "id": "npvaM-GG0D0u"
      },
      "execution_count": null,
      "outputs": []
    },
    {
      "cell_type": "markdown",
      "source": [
        "**find_possible_subsets(item, item_length)** takes each item from the item_support_dict and its length item_length as parameter, and returns all possible combinations of elements inside the items."
      ],
      "metadata": {
        "id": "KFES2eL30Iw-"
      }
    },
    {
      "cell_type": "code",
      "source": [
        "def find_possible_subsets(item, item_length):\n",
        "  # Creating empty list to store a list of combinations.\n",
        "  combs = []\n",
        "\n",
        "  # Iterating over the irems\n",
        "  for i in range(1, item_length + 1):\n",
        "    # appending a list of all possible combinations of items to the combs array.\n",
        "    combs.append(list(combinations(item, i)))\n",
        "\n",
        "  # Creating a subset array\n",
        "  subsets = []\n",
        "  for comb in combs:\n",
        "    for elt in comb:\n",
        "      subsets.append(elt)\n",
        "\n",
        "  return subsets"
      ],
      "metadata": {
        "id": "i3RRHrB50FmF"
      },
      "execution_count": null,
      "outputs": []
    },
    {
      "cell_type": "markdown",
      "source": [
        "### Generate the Association rules"
      ],
      "metadata": {
        "id": "rHKWAU261H-I"
      }
    },
    {
      "cell_type": "code",
      "source": [
        "item = {1, 2, 3}\n",
        "b = item.difference({1, 2, 3})\n",
        "if b:\n",
        "  print(\"Do something\")\n",
        "item | b"
      ],
      "metadata": {
        "id": "O5dnqP7Z1GC8"
      },
      "execution_count": null,
      "outputs": []
    },
    {
      "cell_type": "code",
      "source": [
        "def association_rules(min_confidence, support_dict):\n",
        "    rules = list()\n",
        "    \"\"\"For itemsets of more than one element, it first finds all their subsets calling the find_subset(item, item_length)\n",
        "        For every subset A, it calculates the set B = itemset-A.\n",
        "        If B is not empty, the confidence of B is calculated.\n",
        "        If this value is more than minimum confidence value, the rule A->B is added to the list rules with the corresponding confidence value of B.\"\"\"\n",
        "    for item, support in support_dict.items():\n",
        "        item_length = len(item)\n",
        "       \n",
        "        if item_length > 1:\n",
        "            subsets = find_possible_subsets(item, item_length)\n",
        "           \n",
        "            for A in subsets:\n",
        "                B = item.difference(A)\n",
        "                if B:\n",
        "                    A = frozenset(A)\n",
        "                    \n",
        "                    AB = A | B\n",
        "                    \n",
        "                    confidence = support_dict[AB] / support_dict[A]\n",
        "                    if confidence >= min_confidence:\n",
        "                        rules.append((A, B, confidence))\n",
        "    \n",
        "    return rules"
      ],
      "metadata": {
        "id": "SgpMneti1Uev"
      },
      "execution_count": null,
      "outputs": []
    },
    {
      "cell_type": "code",
      "source": [
        "association_rules = association_rules(min_confidence = 0.6, support_dict = item_support_dict)"
      ],
      "metadata": {
        "id": "0ZrUGv352c38"
      },
      "execution_count": null,
      "outputs": []
    },
    {
      "cell_type": "code",
      "source": [
        "print(\"Number of rules: \", len(association_rules), \"\\n\")\n",
        "\n",
        "for rule in association_rules:\n",
        "  print('{0} -> {1} <confidence: {2}>'.format(set(rule[0]), set(rule[1]), rule[2]))"
      ],
      "metadata": {
        "id": "jP6tw-pn3AEO"
      },
      "execution_count": null,
      "outputs": []
    },
    {
      "cell_type": "code",
      "source": [
        ""
      ],
      "metadata": {
        "id": "_k-Bxgot3c88"
      },
      "execution_count": null,
      "outputs": []
    }
  ]
}